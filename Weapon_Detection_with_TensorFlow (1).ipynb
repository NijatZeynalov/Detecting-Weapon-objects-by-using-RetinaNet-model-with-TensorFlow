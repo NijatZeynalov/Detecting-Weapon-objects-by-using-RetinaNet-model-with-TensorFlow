{
  "nbformat": 4,
  "nbformat_minor": 0,
  "metadata": {
    "colab": {
      "name": "Weapon_Detection_with_TensorFlow.ipynb",
      "provenance": [],
      "collapsed_sections": [],
      "toc_visible": true
    },
    "kernelspec": {
      "name": "python3",
      "display_name": "Python 3"
    },
    "language_info": {
      "name": "python"
    }
  },
  "cells": [
    {
      "cell_type": "markdown",
      "metadata": {
        "id": "S005icLa54sz"
      },
      "source": [
        "# Detecting Weapon Objects by using one-stage object detection model\n",
        "\n",
        "\n",
        "I have used Object Detection API and retrain [RetinaNet](https://arxiv.org/abs/1708.02002) model to spot weapon objects using just 4 training images.\n",
        "\n",
        "RetinaNet is one of the best one-stage object detection models that has proven to work well with dense and small scale objects. For this reason, it has become a popular object detection model that we use with aerial and satellite imagery.\n",
        "\n",
        " \n",
        "\n",
        "The model was introduced by Facebook AI Research to tackle the dense detection problem. It was needed to fill in for the imbalances and inconsistencies of the single-shot object detectors like YOLO and SSD while dealing with extreme foreground-background classes.\n",
        "\n",
        " \n",
        "In essence, originial RetinaNet is a composite network composed of:\n",
        "\n",
        "* Backbone Network (i.e. Bottom-up pathway + Top down a pathway with lateral \n",
        "connections eg. ResNet + FPN)\n",
        "\n",
        "* Subnetwork for object Classification\n",
        "\n",
        "* Subnetwork for object Regression\n",
        "\n",
        "<img src='https://cdn.analyticsvidhya.com/wp-content/uploads/2020/08/image13-850x217.png' alt='model'>"
      ]
    },
    {
      "cell_type": "markdown",
      "metadata": {
        "id": "d18PZkr97yBN"
      },
      "source": [
        "First of all, we need to clone the Tensorflow Model Garden and install the Tensorflow 2 [Object Detection API](https://github.com/tensorflow/models/tree/master/research/object_detection)."
      ]
    },
    {
      "cell_type": "code",
      "metadata": {
        "colab": {
          "base_uri": "https://localhost:8080/"
        },
        "id": "dfBAqkGZ5G_s",
        "outputId": "ca41d925-507c-4986-e880-c7f53a4c2250"
      },
      "source": [
        "!rm -rf ./models/\n",
        "\n",
        "!git clone --depth 1 https://github.com/tensorflow/models/"
      ],
      "execution_count": 1,
      "outputs": [
        {
          "output_type": "stream",
          "text": [
            "Cloning into 'models'...\n",
            "remote: Enumerating objects: 2476, done.\u001b[K\n",
            "remote: Counting objects: 100% (2476/2476), done.\u001b[K\n",
            "remote: Compressing objects: 100% (2040/2040), done.\u001b[K\n",
            "remote: Total 2476 (delta 617), reused 1340 (delta 407), pack-reused 0\u001b[K\n",
            "Receiving objects: 100% (2476/2476), 30.86 MiB | 29.81 MiB/s, done.\n",
            "Resolving deltas: 100% (617/617), done.\n"
          ],
          "name": "stdout"
        }
      ]
    },
    {
      "cell_type": "markdown",
      "metadata": {
        "id": "9Qc9s0rp8FKE"
      },
      "source": [
        "Install the Object Detection API"
      ]
    },
    {
      "cell_type": "code",
      "metadata": {
        "colab": {
          "base_uri": "https://localhost:8080/"
        },
        "id": "ZOXwjFqu78u9",
        "outputId": "dcfdb40b-f627-41d9-a7f2-4dc618d18b85"
      },
      "source": [
        "!cd models/research/ && protoc object_detection/protos/*.proto --python_out=. && cp object_detection/packages/tf2/setup.py . && python -m pip install ."
      ],
      "execution_count": 2,
      "outputs": [
        {
          "output_type": "stream",
          "text": [
            "Processing /content/models/research\n",
            "Collecting avro-python3\n",
            "  Downloading https://files.pythonhosted.org/packages/cc/97/7a6970380ca8db9139a3cc0b0e3e0dd3e4bc584fb3644e1d06e71e1a55f0/avro-python3-1.10.2.tar.gz\n",
            "Collecting apache-beam\n",
            "\u001b[?25l  Downloading https://files.pythonhosted.org/packages/e1/e7/d6e5a3786d9a037a38af966bf154bcd6cb3cbea2edffda00cf6c417cc9a2/apache_beam-2.28.0-cp37-cp37m-manylinux2010_x86_64.whl (9.0MB)\n",
            "\u001b[K     |████████████████████████████████| 9.0MB 7.3MB/s \n",
            "\u001b[?25hRequirement already satisfied: pillow in /usr/local/lib/python3.7/dist-packages (from object-detection==0.1) (7.0.0)\n",
            "Requirement already satisfied: lxml in /usr/local/lib/python3.7/dist-packages (from object-detection==0.1) (4.2.6)\n",
            "Requirement already satisfied: matplotlib in /usr/local/lib/python3.7/dist-packages (from object-detection==0.1) (3.2.2)\n",
            "Requirement already satisfied: Cython in /usr/local/lib/python3.7/dist-packages (from object-detection==0.1) (0.29.22)\n",
            "Requirement already satisfied: contextlib2 in /usr/local/lib/python3.7/dist-packages (from object-detection==0.1) (0.5.5)\n",
            "Collecting tf-slim\n",
            "\u001b[?25l  Downloading https://files.pythonhosted.org/packages/02/97/b0f4a64df018ca018cc035d44f2ef08f91e2e8aa67271f6f19633a015ff7/tf_slim-1.1.0-py2.py3-none-any.whl (352kB)\n",
            "\u001b[K     |████████████████████████████████| 358kB 45.0MB/s \n",
            "\u001b[?25hRequirement already satisfied: six in /usr/local/lib/python3.7/dist-packages (from object-detection==0.1) (1.15.0)\n",
            "Requirement already satisfied: pycocotools in /usr/local/lib/python3.7/dist-packages (from object-detection==0.1) (2.0.2)\n",
            "Collecting lvis\n",
            "  Downloading https://files.pythonhosted.org/packages/72/b6/1992240ab48310b5360bfdd1d53163f43bb97d90dc5dc723c67d41c38e78/lvis-0.5.3-py3-none-any.whl\n",
            "Requirement already satisfied: scipy in /usr/local/lib/python3.7/dist-packages (from object-detection==0.1) (1.4.1)\n",
            "Requirement already satisfied: pandas in /usr/local/lib/python3.7/dist-packages (from object-detection==0.1) (1.1.5)\n",
            "Collecting tf-models-official\n",
            "\u001b[?25l  Downloading https://files.pythonhosted.org/packages/57/4a/23a08f8fd2747867ee223612e219eeb0d11c36116601d99b55ef3c72e707/tf_models_official-2.4.0-py2.py3-none-any.whl (1.1MB)\n",
            "\u001b[K     |████████████████████████████████| 1.1MB 45.3MB/s \n",
            "\u001b[?25hRequirement already satisfied: pydot<2,>=1.2.0 in /usr/local/lib/python3.7/dist-packages (from apache-beam->object-detection==0.1) (1.3.0)\n",
            "Collecting dill<0.3.2,>=0.3.1.1\n",
            "\u001b[?25l  Downloading https://files.pythonhosted.org/packages/c7/11/345f3173809cea7f1a193bfbf02403fff250a3360e0e118a1630985e547d/dill-0.3.1.1.tar.gz (151kB)\n",
            "\u001b[K     |████████████████████████████████| 153kB 23.1MB/s \n",
            "\u001b[?25hRequirement already satisfied: crcmod<2.0,>=1.7 in /usr/local/lib/python3.7/dist-packages (from apache-beam->object-detection==0.1) (1.7)\n",
            "Requirement already satisfied: typing-extensions<3.8.0,>=3.7.0 in /usr/local/lib/python3.7/dist-packages (from apache-beam->object-detection==0.1) (3.7.4.3)\n",
            "Requirement already satisfied: grpcio<2,>=1.29.0 in /usr/local/lib/python3.7/dist-packages (from apache-beam->object-detection==0.1) (1.32.0)\n",
            "Collecting mock<3.0.0,>=1.0.1\n",
            "\u001b[?25l  Downloading https://files.pythonhosted.org/packages/e6/35/f187bdf23be87092bd0f1200d43d23076cee4d0dec109f195173fd3ebc79/mock-2.0.0-py2.py3-none-any.whl (56kB)\n",
            "\u001b[K     |████████████████████████████████| 61kB 5.2MB/s \n",
            "\u001b[?25hRequirement already satisfied: pytz>=2018.3 in /usr/local/lib/python3.7/dist-packages (from apache-beam->object-detection==0.1) (2018.9)\n",
            "Collecting requests<3.0.0,>=2.24.0\n",
            "\u001b[?25l  Downloading https://files.pythonhosted.org/packages/29/c1/24814557f1d22c56d50280771a17307e6bf87b70727d975fd6b2ce6b014a/requests-2.25.1-py2.py3-none-any.whl (61kB)\n",
            "\u001b[K     |████████████████████████████████| 61kB 4.9MB/s \n",
            "\u001b[?25hRequirement already satisfied: oauth2client<5,>=2.0.1 in /usr/local/lib/python3.7/dist-packages (from apache-beam->object-detection==0.1) (4.1.3)\n",
            "Collecting hdfs<3.0.0,>=2.1.0\n",
            "  Downloading https://files.pythonhosted.org/packages/08/f7/4c3fad73123a24d7394b6f40d1ec9c1cbf2e921cfea1797216ffd0a51fb1/hdfs-2.6.0-py3-none-any.whl\n",
            "Requirement already satisfied: python-dateutil<3,>=2.8.0 in /usr/local/lib/python3.7/dist-packages (from apache-beam->object-detection==0.1) (2.8.1)\n",
            "Collecting future<1.0.0,>=0.18.2\n",
            "\u001b[?25l  Downloading https://files.pythonhosted.org/packages/45/0b/38b06fd9b92dc2b68d58b75f900e97884c45bedd2ff83203d933cf5851c9/future-0.18.2.tar.gz (829kB)\n",
            "\u001b[K     |████████████████████████████████| 829kB 43.0MB/s \n",
            "\u001b[?25hRequirement already satisfied: numpy<1.20.0,>=1.14.3 in /usr/local/lib/python3.7/dist-packages (from apache-beam->object-detection==0.1) (1.19.5)\n",
            "Requirement already satisfied: httplib2<0.18.0,>=0.8 in /usr/local/lib/python3.7/dist-packages (from apache-beam->object-detection==0.1) (0.17.4)\n",
            "Collecting pyarrow<3.0.0,>=0.15.1\n",
            "\u001b[?25l  Downloading https://files.pythonhosted.org/packages/2e/8d/c002e27767595f22aa09ed0d364327922f673d12b36526c967a2bf6b2ed7/pyarrow-2.0.0-cp37-cp37m-manylinux2014_x86_64.whl (17.7MB)\n",
            "\u001b[K     |████████████████████████████████| 17.7MB 240kB/s \n",
            "\u001b[?25hRequirement already satisfied: protobuf<4,>=3.12.2 in /usr/local/lib/python3.7/dist-packages (from apache-beam->object-detection==0.1) (3.12.4)\n",
            "Requirement already satisfied: pymongo<4.0.0,>=3.8.0 in /usr/local/lib/python3.7/dist-packages (from apache-beam->object-detection==0.1) (3.11.3)\n",
            "Collecting fastavro<2,>=0.21.4\n",
            "\u001b[?25l  Downloading https://files.pythonhosted.org/packages/e3/ff/8f147013c646128680a1b5c047f1db7ebbe171bb8ff3396937e640c0825d/fastavro-1.3.4-cp37-cp37m-manylinux2014_x86_64.whl (2.2MB)\n",
            "\u001b[K     |████████████████████████████████| 2.2MB 49.1MB/s \n",
            "\u001b[?25hRequirement already satisfied: pyparsing!=2.0.4,!=2.1.2,!=2.1.6,>=2.0.1 in /usr/local/lib/python3.7/dist-packages (from matplotlib->object-detection==0.1) (2.4.7)\n",
            "Requirement already satisfied: kiwisolver>=1.0.1 in /usr/local/lib/python3.7/dist-packages (from matplotlib->object-detection==0.1) (1.3.1)\n",
            "Requirement already satisfied: cycler>=0.10 in /usr/local/lib/python3.7/dist-packages (from matplotlib->object-detection==0.1) (0.10.0)\n",
            "Requirement already satisfied: absl-py>=0.2.2 in /usr/local/lib/python3.7/dist-packages (from tf-slim->object-detection==0.1) (0.10.0)\n",
            "Requirement already satisfied: setuptools>=18.0 in /usr/local/lib/python3.7/dist-packages (from pycocotools->object-detection==0.1) (54.1.2)\n",
            "Requirement already satisfied: opencv-python>=4.1.0.25 in /usr/local/lib/python3.7/dist-packages (from lvis->object-detection==0.1) (4.1.2.30)\n",
            "Requirement already satisfied: gin-config in /usr/local/lib/python3.7/dist-packages (from tf-models-official->object-detection==0.1) (0.4.0)\n",
            "Requirement already satisfied: tensorflow-hub>=0.6.0 in /usr/local/lib/python3.7/dist-packages (from tf-models-official->object-detection==0.1) (0.11.0)\n",
            "Requirement already satisfied: google-api-python-client>=1.6.7 in /usr/local/lib/python3.7/dist-packages (from tf-models-official->object-detection==0.1) (1.12.8)\n",
            "Collecting seqeval\n",
            "\u001b[?25l  Downloading https://files.pythonhosted.org/packages/9d/2d/233c79d5b4e5ab1dbf111242299153f3caddddbb691219f363ad55ce783d/seqeval-1.2.2.tar.gz (43kB)\n",
            "\u001b[K     |████████████████████████████████| 51kB 3.2MB/s \n",
            "\u001b[?25hCollecting opencv-python-headless\n",
            "\u001b[?25l  Downloading https://files.pythonhosted.org/packages/6d/6d/92f377bece9b0ec9c893081dbe073a65b38d7ac12ef572b8f70554d08760/opencv_python_headless-4.5.1.48-cp37-cp37m-manylinux2014_x86_64.whl (37.6MB)\n",
            "\u001b[K     |████████████████████████████████| 37.6MB 122kB/s \n",
            "\u001b[?25hRequirement already satisfied: kaggle>=1.3.9 in /usr/local/lib/python3.7/dist-packages (from tf-models-official->object-detection==0.1) (1.5.10)\n",
            "Collecting sentencepiece\n",
            "\u001b[?25l  Downloading https://files.pythonhosted.org/packages/f5/99/e0808cb947ba10f575839c43e8fafc9cc44e4a7a2c8f79c60db48220a577/sentencepiece-0.1.95-cp37-cp37m-manylinux2014_x86_64.whl (1.2MB)\n",
            "\u001b[K     |████████████████████████████████| 1.2MB 28.4MB/s \n",
            "\u001b[?25hRequirement already satisfied: google-cloud-bigquery>=0.31.0 in /usr/local/lib/python3.7/dist-packages (from tf-models-official->object-detection==0.1) (1.21.0)\n",
            "Collecting dataclasses\n",
            "  Downloading https://files.pythonhosted.org/packages/26/2f/1095cdc2868052dd1e64520f7c0d5c8c550ad297e944e641dbf1ffbb9a5d/dataclasses-0.6-py3-none-any.whl\n",
            "Collecting pyyaml>=5.1\n",
            "\u001b[?25l  Downloading https://files.pythonhosted.org/packages/7a/a5/393c087efdc78091afa2af9f1378762f9821c9c1d7a22c5753fb5ac5f97a/PyYAML-5.4.1-cp37-cp37m-manylinux1_x86_64.whl (636kB)\n",
            "\u001b[K     |████████████████████████████████| 645kB 25.5MB/s \n",
            "\u001b[?25hCollecting tensorflow-addons\n",
            "\u001b[?25l  Downloading https://files.pythonhosted.org/packages/74/e3/56d2fe76f0bb7c88ed9b2a6a557e25e83e252aec08f13de34369cd850a0b/tensorflow_addons-0.12.1-cp37-cp37m-manylinux2010_x86_64.whl (703kB)\n",
            "\u001b[K     |████████████████████████████████| 706kB 23.4MB/s \n",
            "\u001b[?25hRequirement already satisfied: psutil>=5.4.3 in /usr/local/lib/python3.7/dist-packages (from tf-models-official->object-detection==0.1) (5.4.8)\n",
            "Requirement already satisfied: tensorflow>=2.4.0 in /usr/local/lib/python3.7/dist-packages (from tf-models-official->object-detection==0.1) (2.4.1)\n",
            "Requirement already satisfied: tensorflow-datasets in /usr/local/lib/python3.7/dist-packages (from tf-models-official->object-detection==0.1) (4.0.1)\n",
            "Collecting py-cpuinfo>=3.3.0\n",
            "\u001b[?25l  Downloading https://files.pythonhosted.org/packages/f6/f5/8e6e85ce2e9f6e05040cf0d4e26f43a4718bcc4bce988b433276d4b1a5c1/py-cpuinfo-7.0.0.tar.gz (95kB)\n",
            "\u001b[K     |████████████████████████████████| 102kB 5.8MB/s \n",
            "\u001b[?25hCollecting tensorflow-model-optimization>=0.4.1\n",
            "\u001b[?25l  Downloading https://files.pythonhosted.org/packages/55/38/4fd48ea1bfcb0b6e36d949025200426fe9c3a8bfae029f0973d85518fa5a/tensorflow_model_optimization-0.5.0-py2.py3-none-any.whl (172kB)\n",
            "\u001b[K     |████████████████████████████████| 174kB 39.6MB/s \n",
            "\u001b[?25hCollecting pbr>=0.11\n",
            "\u001b[?25l  Downloading https://files.pythonhosted.org/packages/fb/48/69046506f6ac61c1eaa9a0d42d22d54673b69e176d30ca98e3f61513e980/pbr-5.5.1-py2.py3-none-any.whl (106kB)\n",
            "\u001b[K     |████████████████████████████████| 112kB 24.8MB/s \n",
            "\u001b[?25hRequirement already satisfied: idna<3,>=2.5 in /usr/local/lib/python3.7/dist-packages (from requests<3.0.0,>=2.24.0->apache-beam->object-detection==0.1) (2.10)\n",
            "Requirement already satisfied: urllib3<1.27,>=1.21.1 in /usr/local/lib/python3.7/dist-packages (from requests<3.0.0,>=2.24.0->apache-beam->object-detection==0.1) (1.24.3)\n",
            "Requirement already satisfied: chardet<5,>=3.0.2 in /usr/local/lib/python3.7/dist-packages (from requests<3.0.0,>=2.24.0->apache-beam->object-detection==0.1) (3.0.4)\n",
            "Requirement already satisfied: certifi>=2017.4.17 in /usr/local/lib/python3.7/dist-packages (from requests<3.0.0,>=2.24.0->apache-beam->object-detection==0.1) (2020.12.5)\n",
            "Requirement already satisfied: pyasn1-modules>=0.0.5 in /usr/local/lib/python3.7/dist-packages (from oauth2client<5,>=2.0.1->apache-beam->object-detection==0.1) (0.2.8)\n",
            "Requirement already satisfied: rsa>=3.1.4 in /usr/local/lib/python3.7/dist-packages (from oauth2client<5,>=2.0.1->apache-beam->object-detection==0.1) (4.7.2)\n",
            "Requirement already satisfied: pyasn1>=0.1.7 in /usr/local/lib/python3.7/dist-packages (from oauth2client<5,>=2.0.1->apache-beam->object-detection==0.1) (0.4.8)\n",
            "Requirement already satisfied: docopt in /usr/local/lib/python3.7/dist-packages (from hdfs<3.0.0,>=2.1.0->apache-beam->object-detection==0.1) (0.6.2)\n",
            "Requirement already satisfied: google-auth>=1.16.0 in /usr/local/lib/python3.7/dist-packages (from google-api-python-client>=1.6.7->tf-models-official->object-detection==0.1) (1.27.1)\n",
            "Requirement already satisfied: google-api-core<2dev,>=1.21.0 in /usr/local/lib/python3.7/dist-packages (from google-api-python-client>=1.6.7->tf-models-official->object-detection==0.1) (1.26.1)\n",
            "Requirement already satisfied: google-auth-httplib2>=0.0.3 in /usr/local/lib/python3.7/dist-packages (from google-api-python-client>=1.6.7->tf-models-official->object-detection==0.1) (0.0.4)\n",
            "Requirement already satisfied: uritemplate<4dev,>=3.0.0 in /usr/local/lib/python3.7/dist-packages (from google-api-python-client>=1.6.7->tf-models-official->object-detection==0.1) (3.0.1)\n",
            "Requirement already satisfied: scikit-learn>=0.21.3 in /usr/local/lib/python3.7/dist-packages (from seqeval->tf-models-official->object-detection==0.1) (0.22.2.post1)\n",
            "Requirement already satisfied: tqdm in /usr/local/lib/python3.7/dist-packages (from kaggle>=1.3.9->tf-models-official->object-detection==0.1) (4.41.1)\n",
            "Requirement already satisfied: python-slugify in /usr/local/lib/python3.7/dist-packages (from kaggle>=1.3.9->tf-models-official->object-detection==0.1) (4.0.1)\n",
            "Requirement already satisfied: google-resumable-media!=0.4.0,<0.5.0dev,>=0.3.1 in /usr/local/lib/python3.7/dist-packages (from google-cloud-bigquery>=0.31.0->tf-models-official->object-detection==0.1) (0.4.1)\n",
            "Requirement already satisfied: google-cloud-core<2.0dev,>=1.0.3 in /usr/local/lib/python3.7/dist-packages (from google-cloud-bigquery>=0.31.0->tf-models-official->object-detection==0.1) (1.0.3)\n",
            "Requirement already satisfied: typeguard>=2.7 in /usr/local/lib/python3.7/dist-packages (from tensorflow-addons->tf-models-official->object-detection==0.1) (2.7.1)\n",
            "Requirement already satisfied: termcolor~=1.1.0 in /usr/local/lib/python3.7/dist-packages (from tensorflow>=2.4.0->tf-models-official->object-detection==0.1) (1.1.0)\n",
            "Requirement already satisfied: wrapt~=1.12.1 in /usr/local/lib/python3.7/dist-packages (from tensorflow>=2.4.0->tf-models-official->object-detection==0.1) (1.12.1)\n",
            "Requirement already satisfied: gast==0.3.3 in /usr/local/lib/python3.7/dist-packages (from tensorflow>=2.4.0->tf-models-official->object-detection==0.1) (0.3.3)\n",
            "Requirement already satisfied: tensorboard~=2.4 in /usr/local/lib/python3.7/dist-packages (from tensorflow>=2.4.0->tf-models-official->object-detection==0.1) (2.4.1)\n",
            "Requirement already satisfied: flatbuffers~=1.12.0 in /usr/local/lib/python3.7/dist-packages (from tensorflow>=2.4.0->tf-models-official->object-detection==0.1) (1.12)\n",
            "Requirement already satisfied: wheel~=0.35 in /usr/local/lib/python3.7/dist-packages (from tensorflow>=2.4.0->tf-models-official->object-detection==0.1) (0.36.2)\n",
            "Requirement already satisfied: keras-preprocessing~=1.1.2 in /usr/local/lib/python3.7/dist-packages (from tensorflow>=2.4.0->tf-models-official->object-detection==0.1) (1.1.2)\n",
            "Requirement already satisfied: tensorflow-estimator<2.5.0,>=2.4.0 in /usr/local/lib/python3.7/dist-packages (from tensorflow>=2.4.0->tf-models-official->object-detection==0.1) (2.4.0)\n",
            "Requirement already satisfied: google-pasta~=0.2 in /usr/local/lib/python3.7/dist-packages (from tensorflow>=2.4.0->tf-models-official->object-detection==0.1) (0.2.0)\n",
            "Requirement already satisfied: astunparse~=1.6.3 in /usr/local/lib/python3.7/dist-packages (from tensorflow>=2.4.0->tf-models-official->object-detection==0.1) (1.6.3)\n",
            "Requirement already satisfied: h5py~=2.10.0 in /usr/local/lib/python3.7/dist-packages (from tensorflow>=2.4.0->tf-models-official->object-detection==0.1) (2.10.0)\n",
            "Requirement already satisfied: opt-einsum~=3.3.0 in /usr/local/lib/python3.7/dist-packages (from tensorflow>=2.4.0->tf-models-official->object-detection==0.1) (3.3.0)\n",
            "Requirement already satisfied: importlib-resources; python_version < \"3.9\" in /usr/local/lib/python3.7/dist-packages (from tensorflow-datasets->tf-models-official->object-detection==0.1) (5.1.2)\n",
            "Requirement already satisfied: promise in /usr/local/lib/python3.7/dist-packages (from tensorflow-datasets->tf-models-official->object-detection==0.1) (2.3)\n",
            "Requirement already satisfied: dm-tree in /usr/local/lib/python3.7/dist-packages (from tensorflow-datasets->tf-models-official->object-detection==0.1) (0.1.5)\n",
            "Requirement already satisfied: tensorflow-metadata in /usr/local/lib/python3.7/dist-packages (from tensorflow-datasets->tf-models-official->object-detection==0.1) (0.28.0)\n",
            "Requirement already satisfied: attrs>=18.1.0 in /usr/local/lib/python3.7/dist-packages (from tensorflow-datasets->tf-models-official->object-detection==0.1) (20.3.0)\n",
            "Requirement already satisfied: cachetools<5.0,>=2.0.0 in /usr/local/lib/python3.7/dist-packages (from google-auth>=1.16.0->google-api-python-client>=1.6.7->tf-models-official->object-detection==0.1) (4.2.1)\n",
            "Requirement already satisfied: packaging>=14.3 in /usr/local/lib/python3.7/dist-packages (from google-api-core<2dev,>=1.21.0->google-api-python-client>=1.6.7->tf-models-official->object-detection==0.1) (20.9)\n",
            "Requirement already satisfied: googleapis-common-protos<2.0dev,>=1.6.0 in /usr/local/lib/python3.7/dist-packages (from google-api-core<2dev,>=1.21.0->google-api-python-client>=1.6.7->tf-models-official->object-detection==0.1) (1.53.0)\n",
            "Requirement already satisfied: joblib>=0.11 in /usr/local/lib/python3.7/dist-packages (from scikit-learn>=0.21.3->seqeval->tf-models-official->object-detection==0.1) (1.0.1)\n",
            "Requirement already satisfied: text-unidecode>=1.3 in /usr/local/lib/python3.7/dist-packages (from python-slugify->kaggle>=1.3.9->tf-models-official->object-detection==0.1) (1.3)\n",
            "Requirement already satisfied: tensorboard-plugin-wit>=1.6.0 in /usr/local/lib/python3.7/dist-packages (from tensorboard~=2.4->tensorflow>=2.4.0->tf-models-official->object-detection==0.1) (1.8.0)\n",
            "Requirement already satisfied: werkzeug>=0.11.15 in /usr/local/lib/python3.7/dist-packages (from tensorboard~=2.4->tensorflow>=2.4.0->tf-models-official->object-detection==0.1) (1.0.1)\n",
            "Requirement already satisfied: markdown>=2.6.8 in /usr/local/lib/python3.7/dist-packages (from tensorboard~=2.4->tensorflow>=2.4.0->tf-models-official->object-detection==0.1) (3.3.4)\n",
            "Requirement already satisfied: google-auth-oauthlib<0.5,>=0.4.1 in /usr/local/lib/python3.7/dist-packages (from tensorboard~=2.4->tensorflow>=2.4.0->tf-models-official->object-detection==0.1) (0.4.3)\n",
            "Requirement already satisfied: zipp>=0.4; python_version < \"3.8\" in /usr/local/lib/python3.7/dist-packages (from importlib-resources; python_version < \"3.9\"->tensorflow-datasets->tf-models-official->object-detection==0.1) (3.4.1)\n",
            "Requirement already satisfied: importlib-metadata; python_version < \"3.8\" in /usr/local/lib/python3.7/dist-packages (from markdown>=2.6.8->tensorboard~=2.4->tensorflow>=2.4.0->tf-models-official->object-detection==0.1) (3.7.2)\n",
            "Requirement already satisfied: requests-oauthlib>=0.7.0 in /usr/local/lib/python3.7/dist-packages (from google-auth-oauthlib<0.5,>=0.4.1->tensorboard~=2.4->tensorflow>=2.4.0->tf-models-official->object-detection==0.1) (1.3.0)\n",
            "Requirement already satisfied: oauthlib>=3.0.0 in /usr/local/lib/python3.7/dist-packages (from requests-oauthlib>=0.7.0->google-auth-oauthlib<0.5,>=0.4.1->tensorboard~=2.4->tensorflow>=2.4.0->tf-models-official->object-detection==0.1) (3.1.0)\n",
            "Building wheels for collected packages: object-detection, avro-python3, dill, future, seqeval, py-cpuinfo\n",
            "  Building wheel for object-detection (setup.py) ... \u001b[?25l\u001b[?25hdone\n",
            "  Created wheel for object-detection: filename=object_detection-0.1-cp37-none-any.whl size=1630675 sha256=5e70217507d9fc4254831d806269fbf98149693e67ecbfe9c064d1a6a1017cbe\n",
            "  Stored in directory: /tmp/pip-ephem-wheel-cache-6b09_1ix/wheels/94/49/4b/39b051683087a22ef7e80ec52152a27249d1a644ccf4e442ea\n",
            "  Building wheel for avro-python3 (setup.py) ... \u001b[?25l\u001b[?25hdone\n",
            "  Created wheel for avro-python3: filename=avro_python3-1.10.2-cp37-none-any.whl size=44011 sha256=0675e3668db2510535184d7720500c78290cb23b7d73dc62ec4f36529d9ff11d\n",
            "  Stored in directory: /root/.cache/pip/wheels/ee/ee/18/c466221ca6900e3efce2f4ea9c329288808679aecdcb2838d3\n",
            "  Building wheel for dill (setup.py) ... \u001b[?25l\u001b[?25hdone\n",
            "  Created wheel for dill: filename=dill-0.3.1.1-cp37-none-any.whl size=78532 sha256=af357de12fecdbda1ff02e8f7de5e20872b7bc70ab18bfb7b426c07634f7a59a\n",
            "  Stored in directory: /root/.cache/pip/wheels/59/b1/91/f02e76c732915c4015ab4010f3015469866c1eb9b14058d8e7\n",
            "  Building wheel for future (setup.py) ... \u001b[?25l\u001b[?25hdone\n",
            "  Created wheel for future: filename=future-0.18.2-cp37-none-any.whl size=491058 sha256=057f5544232c7ef743ff9549f28ecca2f340d4cbcd22f3af4ab9d9a99419f1a4\n",
            "  Stored in directory: /root/.cache/pip/wheels/8b/99/a0/81daf51dcd359a9377b110a8a886b3895921802d2fc1b2397e\n",
            "  Building wheel for seqeval (setup.py) ... \u001b[?25l\u001b[?25hdone\n",
            "  Created wheel for seqeval: filename=seqeval-1.2.2-cp37-none-any.whl size=16172 sha256=0dda56292a38ad4c07e17a5695f2cc9575e36537c7a907c0e06151a320528b6d\n",
            "  Stored in directory: /root/.cache/pip/wheels/52/df/1b/45d75646c37428f7e626214704a0e35bd3cfc32eda37e59e5f\n",
            "  Building wheel for py-cpuinfo (setup.py) ... \u001b[?25l\u001b[?25hdone\n",
            "  Created wheel for py-cpuinfo: filename=py_cpuinfo-7.0.0-cp37-none-any.whl size=20070 sha256=ec77df7b47ada208fcaf636afd438d12a97e4fbf2a00f35edd3de98f8ae4c254\n",
            "  Stored in directory: /root/.cache/pip/wheels/f1/93/7b/127daf0c3a5a49feb2fecd468d508067c733fba5192f726ad1\n",
            "Successfully built object-detection avro-python3 dill future seqeval py-cpuinfo\n",
            "\u001b[31mERROR: multiprocess 0.70.11.1 has requirement dill>=0.3.3, but you'll have dill 0.3.1.1 which is incompatible.\u001b[0m\n",
            "\u001b[31mERROR: google-colab 1.0.0 has requirement requests~=2.23.0, but you'll have requests 2.25.1 which is incompatible.\u001b[0m\n",
            "\u001b[31mERROR: datascience 0.10.6 has requirement folium==0.2.1, but you'll have folium 0.8.3 which is incompatible.\u001b[0m\n",
            "\u001b[31mERROR: apache-beam 2.28.0 has requirement avro-python3!=1.9.2,<1.10.0,>=1.8.1, but you'll have avro-python3 1.10.2 which is incompatible.\u001b[0m\n",
            "Installing collected packages: avro-python3, dill, pbr, mock, requests, hdfs, future, pyarrow, fastavro, apache-beam, tf-slim, lvis, seqeval, opencv-python-headless, sentencepiece, dataclasses, pyyaml, tensorflow-addons, py-cpuinfo, tensorflow-model-optimization, tf-models-official, object-detection\n",
            "  Found existing installation: dill 0.3.3\n",
            "    Uninstalling dill-0.3.3:\n",
            "      Successfully uninstalled dill-0.3.3\n",
            "  Found existing installation: requests 2.23.0\n",
            "    Uninstalling requests-2.23.0:\n",
            "      Successfully uninstalled requests-2.23.0\n",
            "  Found existing installation: future 0.16.0\n",
            "    Uninstalling future-0.16.0:\n",
            "      Successfully uninstalled future-0.16.0\n",
            "  Found existing installation: pyarrow 3.0.0\n",
            "    Uninstalling pyarrow-3.0.0:\n",
            "      Successfully uninstalled pyarrow-3.0.0\n",
            "  Found existing installation: PyYAML 3.13\n",
            "    Uninstalling PyYAML-3.13:\n",
            "      Successfully uninstalled PyYAML-3.13\n",
            "Successfully installed apache-beam-2.28.0 avro-python3-1.10.2 dataclasses-0.6 dill-0.3.1.1 fastavro-1.3.4 future-0.18.2 hdfs-2.6.0 lvis-0.5.3 mock-2.0.0 object-detection-0.1 opencv-python-headless-4.5.1.48 pbr-5.5.1 py-cpuinfo-7.0.0 pyarrow-2.0.0 pyyaml-5.4.1 requests-2.25.1 sentencepiece-0.1.95 seqeval-1.2.2 tensorflow-addons-0.12.1 tensorflow-model-optimization-0.5.0 tf-models-official-2.4.0 tf-slim-1.1.0\n"
          ],
          "name": "stdout"
        }
      ]
    },
    {
      "cell_type": "markdown",
      "metadata": {
        "id": "R9ofPLcj8YPK"
      },
      "source": [
        "## Import packages\n",
        "\n",
        "Let's now import the libraries that we will need for this project "
      ]
    },
    {
      "cell_type": "code",
      "metadata": {
        "colab": {
          "base_uri": "https://localhost:8080/"
        },
        "id": "q28W5_U_8WT1",
        "outputId": "0797cf5e-c678-4f01-a8cd-a2e7c03a825f"
      },
      "source": [
        "import glob\n",
        "import imageio\n",
        "from six import BytesIO\n",
        "from PIL import Image, ImageDraw, ImageFont\n",
        "from IPython.display import display, Javascript\n",
        "from IPython.display import Image as IPyImage\n",
        "import matplotlib\n",
        "import matplotlib.pyplot as plt\n",
        "import os\n",
        "import random\n",
        "import zipfile\n",
        "import io\n",
        "import scipy.misc\n",
        "import numpy as np\n",
        "import tensorflow as tf\n",
        "\n",
        "# Import Object Detection API packages\n",
        "\n",
        "from object_detection.utils import label_map_util\n",
        "from object_detection.utils import config_util\n",
        "from object_detection.utils  import visualization_utils as viz_utils\n",
        "from object_detection.utils import colab_utils\n",
        "from object_detection.utils import colab_utils\n",
        "from object_detection.builders import model_builder\n",
        "\n",
        "print('Done')"
      ],
      "execution_count": 5,
      "outputs": [
        {
          "output_type": "stream",
          "text": [
            "Done\n"
          ],
          "name": "stdout"
        }
      ]
    },
    {
      "cell_type": "markdown",
      "metadata": {
        "id": "dbgsQNMA8x01"
      },
      "source": [
        "## Utilites\n"
      ]
    },
    {
      "cell_type": "code",
      "metadata": {
        "id": "OFd6HVVp8nLt"
      },
      "source": [
        "def load_image_into_numpy_array(path):\n",
        "    \n",
        "    image_data = tf.io.gfile.GFile(path, 'rb').read()\n",
        "    image = Image.open(BytesIO(image_data))\n",
        "    (im_width, im_height) = image.size\n",
        "    \n",
        "    return np.array(image.getdata()).reshape(\n",
        "        (im_height, im_width, 3)).astype(np.uint8)\n",
        "\n",
        "\n",
        "def plot_detections(image_np,\n",
        "                    boxes,\n",
        "                    classes,\n",
        "                    scores,\n",
        "                    category_index,\n",
        "                    figsize=(12, 16),\n",
        "    \n",
        "    image_np_with_annotations = image_np.copy()\n",
        "    \n",
        "    viz_utils.visualize_boxes_and_labels_on_image_array(\n",
        "        image_np_with_annotations,\n",
        "        boxes,\n",
        "        classes,\n",
        "        scores,\n",
        "        category_index,\n",
        "        use_normalized_coordinates=True,\n",
        "        min_score_thresh=0.8)\n",
        "    \n",
        "    if image_name:\n",
        "        plt.imsave(image_name, image_np_with_annotations)\n",
        "    \n",
        "    else:\n",
        "        plt.imshow(image_np_with_annotations)"
      ],
      "execution_count": 6,
      "outputs": []
    },
    {
      "cell_type": "markdown",
      "metadata": {
        "id": "kGJVbG3o-NNB"
      },
      "source": [
        "## Visualize the Gun images data\n",
        "\n",
        "We will use 4 images of guns that using for training."
      ]
    },
    {
      "cell_type": "code",
      "metadata": {
        "colab": {
          "base_uri": "https://localhost:8080/",
          "height": 240
        },
        "id": "H_3VqKtA-HOD",
        "outputId": "3ec29e3d-a2d4-4918-d723-e1b218ccc134"
      },
      "source": [
        "%matplotlib inline\n",
        "train_image_dir = './training'\n",
        "train_images_np = []\n",
        "\n",
        "for i in range(1, 5):\n",
        "\n",
        "    # define the path (string) for each image\n",
        "    image_path = os.path.join('./training/gun_'+str(i)+'.jpg')\n",
        "    print(image_path)\n",
        "\n",
        "    # load images into numpy arrays and append to a list\n",
        "    train_images_np.append(load_image_into_numpy_array(image_path))\n",
        "\n",
        "# configure plot settings via rcParams\n",
        "plt.rcParams['axes.grid'] = False\n",
        "plt.rcParams['xtick.labelsize'] = False\n",
        "plt.rcParams['ytick.labelsize'] = False\n",
        "plt.rcParams['xtick.top'] = False\n",
        "plt.rcParams['xtick.bottom'] = False\n",
        "plt.rcParams['ytick.left'] = False\n",
        "plt.rcParams['ytick.right'] = False\n",
        "plt.rcParams['figure.figsize'] = [14, 7]\n",
        "\n",
        "# plot images\n",
        "for idx, train_image_np in enumerate(train_images_np):\n",
        "    plt.subplot(1, 4, idx+1)\n",
        "    plt.imshow(train_image_np)\n",
        "\n",
        "plt.show()"
      ],
      "execution_count": 8,
      "outputs": [
        {
          "output_type": "stream",
          "text": [
            "./training/gun_1.jpg\n",
            "./training/gun_2.jpg\n",
            "./training/gun_3.jpg\n",
            "./training/gun_4.jpg\n"
          ],
          "name": "stdout"
        },
        {
          "output_type": "display_data",
          "data": {
            "image/png": "[encoded data removed]",
            "text/plain": [
              "<Figure size 1008x504 with 4 Axes>"
            ]
          },
          "metadata": {
            "tags": [],
            "needs_background": "light"
          }
        }
      ]
    },
    {
      "cell_type": "markdown",
      "metadata": {
        "id": "Kja0YP7nBUe5"
      },
      "source": [
        "## Preparing data for training\n",
        "\n",
        "I will create ground truth boxes. So, I am drawing my own ground truth boxes. For this, I will use **colab_utils.annotate** "
      ]
    },
    {
      "cell_type": "code",
      "metadata": {
        "colab": {
          "base_uri": "https://localhost:8080/",
          "height": 731
        },
        "id": "3u4JFRz5_Qmy",
        "outputId": "9b8d42e5-7f2f-4eeb-ba52-55117119a24e"
      },
      "source": [
        "# Define the list of ground truth boxes\n",
        "gt_boxes = []\n",
        "colab_utils.annotate(train_images_np, box_storage_pointer=gt_boxes)"
      ],
      "execution_count": 10,
      "outputs": [
        {
          "output_type": "display_data",
          "data": {
            "application/javascript": [
              "\n",
              "              async function load_image(imgs, callbackId) {\n",
              "                  //init organizational elements\n",
              "                  const div = document.createElement('div');\n",
              "                  var image_cont = document.createElement('div');\n",
              "                  var errorlog = document.createElement('div');\n",
              "                  var crosshair_h = document.createElement('div');\n",
              "                  crosshair_h.style.position = \"absolute\";\n",
              "                  crosshair_h.style.backgroundColor = \"transparent\";\n",
              "                  crosshair_h.style.width = \"100%\";\n",
              "                  crosshair_h.style.height = \"0px\";\n",
              "                  crosshair_h.style.zIndex = 9998;\n",
              "                  crosshair_h.style.borderStyle = \"dotted\";\n",
              "                  crosshair_h.style.borderWidth = \"2px\";\n",
              "                  crosshair_h.style.borderColor = \"rgba(255, 0, 0, 0.75)\";\n",
              "                  crosshair_h.style.cursor = \"crosshair\";\n",
              "                  var crosshair_v = document.createElement('div');\n",
              "                  crosshair_v.style.position = \"absolute\";\n",
              "                  crosshair_v.style.backgroundColor = \"transparent\";\n",
              "                  crosshair_v.style.width = \"0px\";\n",
              "                  crosshair_v.style.height = \"100%\";\n",
              "                  crosshair_v.style.zIndex = 9999;\n",
              "                  crosshair_v.style.top = \"0px\";\n",
              "                  crosshair_v.style.borderStyle = \"dotted\";\n",
              "                  crosshair_v.style.borderWidth = \"2px\";\n",
              "                  crosshair_v.style.borderColor = \"rgba(255, 0, 0, 0.75)\";\n",
              "                  crosshair_v.style.cursor = \"crosshair\";\n",
              "                  crosshair_v.style.marginTop = \"23px\";\n",
              "                  var brdiv = document.createElement('br');\n",
              "\n",
              "\n",
              "                  //init control elements\n",
              "                  var next = document.createElement('button');\n",
              "                  var prev = document.createElement('button');\n",
              "                  var submit = document.createElement('button');\n",
              "                  var deleteButton = document.createElement('button');\n",
              "                  var deleteAllbutton = document.createElement('button');\n",
              "\n",
              "                  //init image containers\n",
              "                  var image = new Image();\n",
              "                  var canvas_img = document.createElement('canvas');\n",
              "                  var ctx = canvas_img.getContext(\"2d\");\n",
              "                  canvas_img.style.cursor = \"crosshair\";\n",
              "                  canvas_img.setAttribute('draggable', false);\n",
              "                  crosshair_v.setAttribute('draggable', false);\n",
              "                  crosshair_h.setAttribute('draggable', false);\n",
              "\n",
              "                  // bounding box containers\n",
              "                  const height = 600\n",
              "                  var allBoundingBoxes = [];\n",
              "                  var curr_image = 0\n",
              "                  var im_height = 0;\n",
              "                  var im_width = 0;\n",
              "\n",
              "                  //initialize bounding boxes\n",
              "                  for (var i = 0; i < imgs.length; i++) {\n",
              "                    allBoundingBoxes[i] = [];\n",
              "                  }\n",
              "                  //initialize image view\n",
              "                  errorlog.id = 'errorlog';\n",
              "                  image.style.display = 'block';\n",
              "                  image.setAttribute('draggable', false);\n",
              "\n",
              "                  //load the first image\n",
              "                  img = imgs[curr_image];\n",
              "                  image.src = \"data:image/png;base64,\" + img;\n",
              "                  image.onload = function() {\n",
              "                      // normalize display height and canvas\n",
              "                      image.height = height;\n",
              "                      image_cont.height = canvas_img.height = image.height;\n",
              "                      image_cont.width = canvas_img.width = image.naturalWidth;\n",
              "                      crosshair_v.style.height = image_cont.height + \"px\";\n",
              "                      crosshair_h.style.width = image_cont.width + \"px\";\n",
              "\n",
              "                      // draw the new image\n",
              "                      ctx.drawImage(image, 0, 0, image.naturalWidth, image.naturalHeight, 0, 0,  canvas_img.width,  canvas_img.height);\n",
              "\n",
              "                  };\n",
              "\n",
              "                  // move to next image in array\n",
              "                  next.textContent = \"next image\";\n",
              "                  next.onclick = function(){\n",
              "                      if (curr_image < imgs.length - 1){\n",
              "                          // clear canvas and load new image\n",
              "                          curr_image += 1;\n",
              "                          errorlog.innerHTML = \"\";\n",
              "                      }\n",
              "                      else{\n",
              "                          errorlog.innerHTML = \"All images completed!!\";\n",
              "                      }\n",
              "                      resetcanvas();\n",
              "                  }\n",
              "\n",
              "                  //move forward through list of images\n",
              "                  prev.textContent = \"prev image\"\n",
              "                  prev.onclick = function(){\n",
              "                      if (curr_image > 0){\n",
              "                          // clear canvas and load new image\n",
              "                          curr_image -= 1;\n",
              "                          errorlog.innerHTML = \"\";\n",
              "                      }\n",
              "                      else{\n",
              "                          errorlog.innerHTML = \"at the beginning\";\n",
              "                      }\n",
              "                      resetcanvas();\n",
              "                  }\n",
              "                  // on delete, deletes the last bounding box\n",
              "                  deleteButton.textContent = \"undo bbox\";\n",
              "                  deleteButton.onclick = function(){\n",
              "                    boundingBoxes.pop();\n",
              "                    ctx.clearRect(0, 0, canvas_img.width, canvas_img.height);\n",
              "                    image.src = \"data:image/png;base64,\" + img;\n",
              "                    image.onload = function() {\n",
              "                        ctx.drawImage(image, 0, 0, image.naturalWidth, image.naturalHeight, 0, 0,  canvas_img.width,  canvas_img.height);\n",
              "                        boundingBoxes.map(r => {drawRect(r)});\n",
              "                    };\n",
              "                  }\n",
              "                  // on all delete, deletes all of the bounding box\n",
              "                  deleteAllbutton.textContent = \"delete all\"\n",
              "                  deleteAllbutton.onclick = function(){\n",
              "                    boundingBoxes = [];\n",
              "                    ctx.clearRect(0, 0, canvas_img.width, canvas_img.height);\n",
              "                    image.src = \"data:image/png;base64,\" + img;\n",
              "                    image.onload = function() {\n",
              "                        ctx.drawImage(image, 0, 0, image.naturalWidth, image.naturalHeight, 0, 0,  canvas_img.width,  canvas_img.height);\n",
              "                        //boundingBoxes.map(r => {drawRect(r)});\n",
              "                    };\n",
              "                  }\n",
              "\n",
              "                  // on submit, send the boxes to display\n",
              "                  submit.textContent = \"submit\";\n",
              "                  submit.onclick = function(){\n",
              "                    errorlog.innerHTML = \"\";\n",
              "\n",
              "                    // send box data to callback fucntion\n",
              "                    google.colab.kernel.invokeFunction(callbackId, [allBoundingBoxes], {});\n",
              "                  }\n",
              "\n",
              "                // init template for annotations\n",
              "                const annotation = {\n",
              "                      x: 0,\n",
              "                      y: 0,\n",
              "                      w: 0,\n",
              "                      h: 0,\n",
              "                };\n",
              "\n",
              "                // the array of all rectangles\n",
              "                let boundingBoxes = allBoundingBoxes[curr_image];\n",
              "\n",
              "                // the actual rectangle, the one that is being drawn\n",
              "                let o = {};\n",
              "\n",
              "                // a variable to store the mouse position\n",
              "                let m = {},\n",
              "\n",
              "                // a variable to store the point where you begin to draw the\n",
              "                // rectangle\n",
              "                start = {};\n",
              "\n",
              "                // a boolean variable to store the drawing state\n",
              "                let isDrawing = false;\n",
              "                var elem = null;\n",
              "\n",
              "                function handleMouseDown(e) {\n",
              "                  // on mouse click set change the cursor and start tracking the mouse position\n",
              "                  start = oMousePos(canvas_img, e);\n",
              "\n",
              "                  // configure is drawing to true\n",
              "                  isDrawing = true;\n",
              "                }\n",
              "\n",
              "                function handleMouseMove(e) {\n",
              "                    // move crosshairs, but only within the bounds of the canvas\n",
              "                    if (document.elementsFromPoint(e.pageX, e.pageY).includes(canvas_img)) {\n",
              "                      crosshair_h.style.top = e.pageY + \"px\";\n",
              "                      crosshair_v.style.left = e.pageX + \"px\";\n",
              "                    }\n",
              "\n",
              "                    // move the bounding box\n",
              "                    if(isDrawing){\n",
              "                      m = oMousePos(canvas_img, e);\n",
              "                      draw();\n",
              "                    }\n",
              "                }\n",
              "\n",
              "                function handleMouseUp(e) {\n",
              "                    if (isDrawing) {\n",
              "                        // on mouse release, push a bounding box to array and draw all boxes\n",
              "                        isDrawing = false;\n",
              "\n",
              "                        const box = Object.create(annotation);\n",
              "\n",
              "                        // calculate the position of the rectangle\n",
              "                        if (o.w > 0){\n",
              "                          box.x = o.x;\n",
              "                        }\n",
              "                        else{\n",
              "                          box.x = o.x + o.w;\n",
              "                        }\n",
              "                        if (o.h > 0){\n",
              "                          box.y = o.y;\n",
              "                        }\n",
              "                        else{\n",
              "                          box.y = o.y + o.h;\n",
              "                        }\n",
              "                        box.w = Math.abs(o.w);\n",
              "                        box.h = Math.abs(o.h);\n",
              "\n",
              "                        // add the bounding box to the image\n",
              "                        boundingBoxes.push(box);\n",
              "                        draw();\n",
              "                    }\n",
              "                }\n",
              "\n",
              "                function draw() {\n",
              "                    o.x = (start.x)/image.width;  // start position of x\n",
              "                    o.y = (start.y)/image.height;  // start position of y\n",
              "                    o.w = (m.x - start.x)/image.width;  // width\n",
              "                    o.h = (m.y - start.y)/image.height;  // height\n",
              "\n",
              "                    ctx.clearRect(0, 0, canvas_img.width, canvas_img.height);\n",
              "                    ctx.drawImage(image, 0, 0, image.naturalWidth, image.naturalHeight, 0, 0,  canvas_img.width,  canvas_img.height);\n",
              "                    // draw all the rectangles saved in the rectsRy\n",
              "                    boundingBoxes.map(r => {drawRect(r)});\n",
              "                    // draw the actual rectangle\n",
              "                    drawRect(o);\n",
              "                }\n",
              "\n",
              "                // add the handlers needed for dragging\n",
              "                crosshair_h.addEventListener(\"mousedown\", handleMouseDown);\n",
              "                crosshair_v.addEventListener(\"mousedown\", handleMouseDown);\n",
              "                document.addEventListener(\"mousemove\", handleMouseMove);\n",
              "                document.addEventListener(\"mouseup\", handleMouseUp);\n",
              "\n",
              "\n",
              "                function resetcanvas(){\n",
              "                    // clear canvas\n",
              "                    ctx.clearRect(0, 0, canvas_img.width, canvas_img.height);\n",
              "                    img = imgs[curr_image]\n",
              "                    image.src = \"data:image/png;base64,\" + img;\n",
              "\n",
              "                    // onload init new canvas and display image\n",
              "                    image.onload = function() {\n",
              "                        // normalize display height and canvas\n",
              "                        image.height = height;\n",
              "                        image_cont.height = canvas_img.height = image.height;\n",
              "                        image_cont.width = canvas_img.width = image.naturalWidth;\n",
              "                        crosshair_v.style.height = image_cont.height + \"px\";\n",
              "                        crosshair_h.style.width = image_cont.width + \"px\";\n",
              "\n",
              "                        // draw the new image\n",
              "                        ctx.drawImage(image, 0, 0, image.naturalWidth, image.naturalHeight, 0, 0,  canvas_img.width,  canvas_img.height);\n",
              "\n",
              "                        // draw bounding boxes\n",
              "                        boundingBoxes = allBoundingBoxes[curr_image];\n",
              "                        boundingBoxes.map(r => {drawRect(r)});\n",
              "                    };\n",
              "                }\n",
              "\n",
              "                function drawRect(o){\n",
              "                    // draw a predefined rectangle\n",
              "                    ctx.strokeStyle = \"red\";\n",
              "                    ctx.lineWidth = 2;\n",
              "                    ctx.beginPath(o);\n",
              "                    ctx.rect(o.x * image.width, o.y * image.height, o.w * image.width, o.h * image.height);\n",
              "                    ctx.stroke();\n",
              "                }\n",
              "\n",
              "                // Function to detect the mouse position\n",
              "                function oMousePos(canvas_img, evt) {\n",
              "                  let ClientRect = canvas_img.getBoundingClientRect();\n",
              "                    return {\n",
              "                      x: evt.clientX - ClientRect.left,\n",
              "                      y: evt.clientY - ClientRect.top\n",
              "                    };\n",
              "                }\n",
              "\n",
              "\n",
              "                //configure colab output display\n",
              "                google.colab.output.setIframeHeight(document.documentElement.scrollHeight, true);\n",
              "\n",
              "                //build the html document that will be seen in output\n",
              "                div.appendChild(document.createElement('br'))\n",
              "                div.appendChild(image_cont)\n",
              "                image_cont.appendChild(canvas_img)\n",
              "                image_cont.appendChild(crosshair_h)\n",
              "                image_cont.appendChild(crosshair_v)\n",
              "                div.appendChild(document.createElement('br'))\n",
              "                div.appendChild(errorlog)\n",
              "                div.appendChild(prev)\n",
              "                div.appendChild(next)\n",
              "                div.appendChild(deleteButton)\n",
              "                div.appendChild(deleteAllbutton)\n",
              "                div.appendChild(document.createElement('br'))\n",
              "                div.appendChild(brdiv)\n",
              "                div.appendChild(submit)\n",
              "                document.querySelector(\"#output-area\").appendChild(div);\n",
              "                return\n",
              "            }"
            ],
            "text/plain": [
              "<IPython.core.display.Javascript object>"
            ]
          },
          "metadata": {
            "tags": []
          }
        },
        {
          "output_type": "display_data",
          "data": {
            "application/javascript": [
              "window[\"d35cc676-8fa2-11eb-baf0-0242ac1c0002\"] = google.colab.output.getActiveOutputArea();\n",
              "//# sourceURL=js_ba9deb0777"
            ],
            "text/plain": [
              "<IPython.core.display.Javascript object>"
            ]
          },
          "metadata": {
            "tags": []
          }
        },
        {
          "output_type": "display_data",
          "data": {
            "application/javascript": [
              "window[\"d35dd82c-8fa2-11eb-baf0-0242ac1c0002\"] = document.querySelector(\"#errorlog\");\n",
              "//# sourceURL=js_cefb6d12f2"
            ],
            "text/plain": [
              "<IPython.core.display.Javascript object>"
            ]
          },
          "metadata": {
            "tags": []
          }
        },
        {
          "output_type": "display_data",
          "data": {
            "application/javascript": [
              "window[\"d35ea6b2-8fa2-11eb-baf0-0242ac1c0002\"] = google.colab.output.setActiveOutputArea(window[\"d35dd82c-8fa2-11eb-baf0-0242ac1c0002\"]);\n",
              "//# sourceURL=js_d3e417cd32"
            ],
            "text/plain": [
              "<IPython.core.display.Javascript object>"
            ]
          },
          "metadata": {
            "tags": []
          }
        },
        {
          "output_type": "display_data",
          "data": {
            "application/vnd.google.colaboratory.intrinsic+json": {
              "type": "string"
            },
            "text/plain": [
              "'--boxes array populated--'"
            ]
          },
          "metadata": {
            "tags": []
          }
        },
        {
          "output_type": "display_data",
          "data": {
            "application/javascript": [
              "window[\"d36056e2-8fa2-11eb-baf0-0242ac1c0002\"] = google.colab.output.setActiveOutputArea(window[\"d35cc676-8fa2-11eb-baf0-0242ac1c0002\"]);\n",
              "//# sourceURL=js_78fc00bd1e"
            ],
            "text/plain": [
              "<IPython.core.display.Javascript object>"
            ]
          },
          "metadata": {
            "tags": []
          }
        },
        {
          "output_type": "display_data",
          "data": {
            "application/javascript": [
              "window[\"d5c80bfa-8fa2-11eb-baf0-0242ac1c0002\"] = google.colab.output.getActiveOutputArea();\n",
              "//# sourceURL=js_d24592d6b4"
            ],
            "text/plain": [
              "<IPython.core.display.Javascript object>"
            ]
          },
          "metadata": {
            "tags": []
          }
        },
        {
          "output_type": "display_data",
          "data": {
            "application/javascript": [
              "window[\"d5c88274-8fa2-11eb-baf0-0242ac1c0002\"] = document.querySelector(\"#errorlog\");\n",
              "//# sourceURL=js_8a5647872d"
            ],
            "text/plain": [
              "<IPython.core.display.Javascript object>"
            ]
          },
          "metadata": {
            "tags": []
          }
        },
        {
          "output_type": "display_data",
          "data": {
            "application/javascript": [
              "window[\"d5c8faec-8fa2-11eb-baf0-0242ac1c0002\"] = google.colab.output.setActiveOutputArea(window[\"d5c88274-8fa2-11eb-baf0-0242ac1c0002\"]);\n",
              "//# sourceURL=js_6a2c752f80"
            ],
            "text/plain": [
              "<IPython.core.display.Javascript object>"
            ]
          },
          "metadata": {
            "tags": []
          }
        },
        {
          "output_type": "display_data",
          "data": {
            "application/vnd.google.colaboratory.intrinsic+json": {
              "type": "string"
            },
            "text/plain": [
              "'--boxes array populated--'"
            ]
          },
          "metadata": {
            "tags": []
          }
        },
        {
          "output_type": "display_data",
          "data": {
            "application/javascript": [
              "window[\"d5ca4f64-8fa2-11eb-baf0-0242ac1c0002\"] = google.colab.output.setActiveOutputArea(window[\"d5c80bfa-8fa2-11eb-baf0-0242ac1c0002\"]);\n",
              "//# sourceURL=js_90a26cb4b2"
            ],
            "text/plain": [
              "<IPython.core.display.Javascript object>"
            ]
          },
          "metadata": {
            "tags": []
          }
        },
        {
          "output_type": "display_data",
          "data": {
            "application/javascript": [
              "window[\"da7488e0-8fa2-11eb-baf0-0242ac1c0002\"] = google.colab.output.getActiveOutputArea();\n",
              "//# sourceURL=js_657ce10125"
            ],
            "text/plain": [
              "<IPython.core.display.Javascript object>"
            ]
          },
          "metadata": {
            "tags": []
          }
        },
        {
          "output_type": "display_data",
          "data": {
            "application/javascript": [
              "window[\"da75ac84-8fa2-11eb-baf0-0242ac1c0002\"] = document.querySelector(\"#errorlog\");\n",
              "//# sourceURL=js_2e3c4aa692"
            ],
            "text/plain": [
              "<IPython.core.display.Javascript object>"
            ]
          },
          "metadata": {
            "tags": []
          }
        },
        {
          "output_type": "display_data",
          "data": {
            "application/javascript": [
              "window[\"da769266-8fa2-11eb-baf0-0242ac1c0002\"] = google.colab.output.setActiveOutputArea(window[\"da75ac84-8fa2-11eb-baf0-0242ac1c0002\"]);\n",
              "//# sourceURL=js_6d30481c74"
            ],
            "text/plain": [
              "<IPython.core.display.Javascript object>"
            ]
          },
          "metadata": {
            "tags": []
          }
        },
        {
          "output_type": "display_data",
          "data": {
            "application/vnd.google.colaboratory.intrinsic+json": {
              "type": "string"
            },
            "text/plain": [
              "'--boxes array populated--'"
            ]
          },
          "metadata": {
            "tags": []
          }
        },
        {
          "output_type": "display_data",
          "data": {
            "application/javascript": [
              "window[\"da77bb50-8fa2-11eb-baf0-0242ac1c0002\"] = google.colab.output.setActiveOutputArea(window[\"da7488e0-8fa2-11eb-baf0-0242ac1c0002\"]);\n",
              "//# sourceURL=js_2c9087c773"
            ],
            "text/plain": [
              "<IPython.core.display.Javascript object>"
            ]
          },
          "metadata": {
            "tags": []
          }
        },
        {
          "output_type": "display_data",
          "data": {
            "application/javascript": [
              "window[\"df9d0f68-8fa2-11eb-baf0-0242ac1c0002\"] = google.colab.output.getActiveOutputArea();\n",
              "//# sourceURL=js_6deb08851d"
            ],
            "text/plain": [
              "<IPython.core.display.Javascript object>"
            ]
          },
          "metadata": {
            "tags": []
          }
        },
        {
          "output_type": "display_data",
          "data": {
            "application/javascript": [
              "window[\"df9ded0c-8fa2-11eb-baf0-0242ac1c0002\"] = document.querySelector(\"#errorlog\");\n",
              "//# sourceURL=js_b56cefe2f2"
            ],
            "text/plain": [
              "<IPython.core.display.Javascript object>"
            ]
          },
          "metadata": {
            "tags": []
          }
        },
        {
          "output_type": "display_data",
          "data": {
            "application/javascript": [
              "window[\"df9e5de6-8fa2-11eb-baf0-0242ac1c0002\"] = google.colab.output.setActiveOutputArea(window[\"df9ded0c-8fa2-11eb-baf0-0242ac1c0002\"]);\n",
              "//# sourceURL=js_70b518710b"
            ],
            "text/plain": [
              "<IPython.core.display.Javascript object>"
            ]
          },
          "metadata": {
            "tags": []
          }
        },
        {
          "output_type": "display_data",
          "data": {
            "application/vnd.google.colaboratory.intrinsic+json": {
              "type": "string"
            },
            "text/plain": [
              "'--boxes array populated--'"
            ]
          },
          "metadata": {
            "tags": []
          }
        },
        {
          "output_type": "display_data",
          "data": {
            "application/javascript": [
              "window[\"df9f427e-8fa2-11eb-baf0-0242ac1c0002\"] = google.colab.output.setActiveOutputArea(window[\"df9d0f68-8fa2-11eb-baf0-0242ac1c0002\"]);\n",
              "//# sourceURL=js_6a20621ef0"
            ],
            "text/plain": [
              "<IPython.core.display.Javascript object>"
            ]
          },
          "metadata": {
            "tags": []
          }
        },
        {
          "output_type": "display_data",
          "data": {
            "application/javascript": [
              "window[\"e3d544f6-8fa2-11eb-baf0-0242ac1c0002\"] = google.colab.output.getActiveOutputArea();\n",
              "//# sourceURL=js_08eb1f08c5"
            ],
            "text/plain": [
              "<IPython.core.display.Javascript object>"
            ]
          },
          "metadata": {
            "tags": []
          }
        },
        {
          "output_type": "display_data",
          "data": {
            "application/javascript": [
              "window[\"e3d5e514-8fa2-11eb-baf0-0242ac1c0002\"] = document.querySelector(\"#errorlog\");\n",
              "//# sourceURL=js_19e030dbb2"
            ],
            "text/plain": [
              "<IPython.core.display.Javascript object>"
            ]
          },
          "metadata": {
            "tags": []
          }
        },
        {
          "output_type": "display_data",
          "data": {
            "application/javascript": [
              "window[\"e3d63e24-8fa2-11eb-baf0-0242ac1c0002\"] = google.colab.output.setActiveOutputArea(window[\"e3d5e514-8fa2-11eb-baf0-0242ac1c0002\"]);\n",
              "//# sourceURL=js_5ebbd34ee8"
            ],
            "text/plain": [
              "<IPython.core.display.Javascript object>"
            ]
          },
          "metadata": {
            "tags": []
          }
        },
        {
          "output_type": "display_data",
          "data": {
            "application/vnd.google.colaboratory.intrinsic+json": {
              "type": "string"
            },
            "text/plain": [
              "'--boxes array populated--'"
            ]
          },
          "metadata": {
            "tags": []
          }
        },
        {
          "output_type": "display_data",
          "data": {
            "application/javascript": [
              "window[\"e3d83008-8fa2-11eb-baf0-0242ac1c0002\"] = google.colab.output.setActiveOutputArea(window[\"e3d544f6-8fa2-11eb-baf0-0242ac1c0002\"]);\n",
              "//# sourceURL=js_c187ead0c1"
            ],
            "text/plain": [
              "<IPython.core.display.Javascript object>"
            ]
          },
          "metadata": {
            "tags": []
          }
        }
      ]
    },
    {
      "cell_type": "markdown",
      "metadata": {
        "id": "yeL4dC9aCSWo"
      },
      "source": [
        "## Define the category index dictionary\n",
        "\n",
        "We need to tell the model which integer class ID to assign to the 'has gun' category, and what 'name' to associate with that integer id."
      ]
    },
    {
      "cell_type": "code",
      "metadata": {
        "colab": {
          "base_uri": "https://localhost:8080/"
        },
        "id": "fLGOoiTgB1qC",
        "outputId": "22e22e3d-0c2e-4aab-a2ef-d37bfeaaf553"
      },
      "source": [
        "has_gun_class_id = 1\n",
        "\n",
        "category_index = {has_gun_class_id : \n",
        "{'id'  : has_gun_class_id, \n",
        " 'name': 'has gun'}\n",
        "}\n",
        "\n",
        "num_classes = 1\n",
        "\n",
        "print(category_index[has_gun_class_id])"
      ],
      "execution_count": 11,
      "outputs": [
        {
          "output_type": "stream",
          "text": [
            "{'id': 1, 'name': 'has gun'}\n"
          ],
          "name": "stdout"
        }
      ]
    },
    {
      "cell_type": "markdown",
      "metadata": {
        "id": "GLs8tvsECwvj"
      },
      "source": [
        "We will now do some data preprocessing so it is formatted properly before it is fed to the model:\n",
        "\n",
        "* Convert the class labels to one-hot representations\n",
        "* Convert everything (i.e. train images, gt boxes and class labels) to tensors."
      ]
    },
    {
      "cell_type": "code",
      "metadata": {
        "colab": {
          "base_uri": "https://localhost:8080/"
        },
        "id": "dhSsjQ1tCnIU",
        "outputId": "c09be55c-7872-4c55-f7ea-f93cc73fc690"
      },
      "source": [
        "label_id_offset = 1\n",
        "train_image_tensors = []\n",
        "gt_classes_one_hot_tensors = []\n",
        "gt_box_tensors = []\n",
        "\n",
        "for (train_image_np, gt_box_np) in zip(train_images_np, gt_boxes):\n",
        "  train_image_tensors.append(tf.expand_dims(tf.convert_to_tensor( train_image_np, dtype=tf.float32), axis=0))\n",
        "    \n",
        "  gt_box_tensors.append(tf.convert_to_tensor(gt_box_np, dtype=tf.float32))\n",
        "    \n",
        "  zero_indexed_groundtruth_classes = tf.convert_to_tensor(np.ones(shape=[gt_box_np.shape[0]], dtype=np.int32) - label_id_offset)\n",
        "    \n",
        "  gt_classes_one_hot_tensors.append(tf.one_hot(zero_indexed_groundtruth_classes, num_classes))\n",
        "\n",
        "print('Done')"
      ],
      "execution_count": 14,
      "outputs": [
        {
          "output_type": "stream",
          "text": [
            "Done\n"
          ],
          "name": "stdout"
        }
      ]
    },
    {
      "cell_type": "markdown",
      "metadata": {
        "id": "2mMiGyKLDUel"
      },
      "source": [
        "## Download the checkpoints with the pre-trained weights\n",
        "\n",
        "Next, we will download [RetinaNet](https://arxiv.org/abs/1708.02002) and copy it inside the object detection directory. Let's download the compressed SSD Resnet 50 version 1, 640 x 640 checkpoint.Then, untar (decompress) the tar file and move the decompressed checkpoint to models/research/object_detection/test_data/\n"
      ]
    },
    {
      "cell_type": "code",
      "metadata": {
        "colab": {
          "base_uri": "https://localhost:8080/"
        },
        "id": "Am7kojcSC-FA",
        "outputId": "0b34348c-2078-4995-da2c-944b7bc9b3f4"
      },
      "source": [
        "!wget http://download.tensorflow.org/models/object_detection/tf2/20200711/ssd_resnet50_v1_fpn_640x640_coco17_tpu-8.tar.gz\n",
        "\n",
        "!tar -xf ssd_resnet50_v1_fpn_640x640_coco17_tpu-8.tar.gz\n",
        "\n",
        "!mv ssd_resnet50_v1_fpn_640x640_coco17_tpu-8/checkpoint models/research/object_detection/test_data/"
      ],
      "execution_count": 15,
      "outputs": [
        {
          "output_type": "stream",
          "text": [
            "--2021-03-28 08:59:46--  http://download.tensorflow.org/models/object_detection/tf2/20200711/ssd_resnet50_v1_fpn_640x640_coco17_tpu-8.tar.gz\n",
            "Resolving download.tensorflow.org (download.tensorflow.org)... 172.217.204.128, 2607:f8b0:400c:c15::80\n",
            "Connecting to download.tensorflow.org (download.tensorflow.org)|172.217.204.128|:80... connected.\n",
            "HTTP request sent, awaiting response... 200 OK\n",
            "Length: 244817203 (233M) [application/x-tar]\n",
            "Saving to: ‘ssd_resnet50_v1_fpn_640x640_coco17_tpu-8.tar.gz’\n",
            "\n",
            "ssd_resnet50_v1_fpn 100%[===================>] 233.48M   104MB/s    in 2.3s    \n",
            "\n",
            "2021-03-28 08:59:48 (104 MB/s) - ‘ssd_resnet50_v1_fpn_640x640_coco17_tpu-8.tar.gz’ saved [244817203/244817203]\n",
            "\n"
          ],
          "name": "stdout"
        }
      ]
    },
    {
      "cell_type": "markdown",
      "metadata": {
        "id": "HfNzZA9pD804"
      },
      "source": [
        "## Configure the model\n",
        "\n",
        "\n",
        "#### pipeline_config\n",
        "- In the Colab, on the left side table of contents, click on the folder icon to display the file browser for the current workspace.  \n",
        "- Navigate to `models/research/object_detection/configs/tf2`.  The folder has multiple .config files.  \n",
        "- Look for the file corresponding to ssd resnet 50 version 1 640x640.\n",
        "- You can double-click the config file to view its contents. This may help you as you complete the next few code cells to configure your model.\n",
        "- Set the `pipeline_config` to a string that contains the full path to the resnet config file, in other words: `models/research/.../... .config`\n",
        "\n",
        "\n",
        "#### configs\n",
        "If you look at the module [config_util](https://github.com/tensorflow/models/blob/master/research/object_detection/utils/config_util.py) that you imported, it contains the following function:\n",
        "\n",
        "```\n",
        "def get_configs_from_pipeline_file(pipeline_config_path, config_override=None):\n",
        "```\n",
        "- Please use this function to load the configuration from your `pipeline_config`.\n",
        "  - `configs` will now contain a dictionary.\n"
      ]
    },
    {
      "cell_type": "code",
      "metadata": {
        "colab": {
          "base_uri": "https://localhost:8080/"
        },
        "id": "ojyG1PrtD3vc",
        "outputId": "b7a91bfd-2b23-47cd-ee9f-6a659738db6d"
      },
      "source": [
        "tf.keras.backend.clear_session()\n",
        "\n",
        "pipeline_config = \"/content/models/research/object_detection/configs/tf2/ssd_resnet50_v1_fpn_640x640_coco17_tpu-8.config\"\n",
        "\n",
        "configs = config_util.get_configs_from_pipeline_file(pipeline_config)\n",
        "\n",
        "# Read in the object stored at the key 'model' of the configs dictionary\n",
        "model_config = configs['model']\n",
        "\n",
        "# Modify the number of classes from its default of 90\n",
        "model_config.ssd.num_classes = num_classes\n",
        "\n",
        "model_config.ssd.freeze_batchnorm = True\n",
        "model_config"
      ],
      "execution_count": 18,
      "outputs": [
        {
          "output_type": "execute_result",
          "data": {
            "text/plain": [
              "ssd {\n",
              "  num_classes: 1\n",
              "  image_resizer {\n",
              "    fixed_shape_resizer {\n",
              "      height: 640\n",
              "      width: 640\n",
              "    }\n",
              "  }\n",
              "  feature_extractor {\n",
              "    type: \"ssd_resnet50_v1_fpn_keras\"\n",
              "    depth_multiplier: 1.0\n",
              "    min_depth: 16\n",
              "    conv_hyperparams {\n",
              "      regularizer {\n",
              "        l2_regularizer {\n",
              "          weight: 0.00039999998989515007\n",
              "        }\n",
              "      }\n",
              "      initializer {\n",
              "        truncated_normal_initializer {\n",
              "          mean: 0.0\n",
              "          stddev: 0.029999999329447746\n",
              "        }\n",
              "      }\n",
              "      activation: RELU_6\n",
              "      batch_norm {\n",
              "        decay: 0.996999979019165\n",
              "        scale: true\n",
              "        epsilon: 0.0010000000474974513\n",
              "      }\n",
              "    }\n",
              "    override_base_feature_extractor_hyperparams: true\n",
              "    fpn {\n",
              "      min_level: 3\n",
              "      max_level: 7\n",
              "    }\n",
              "  }\n",
              "  box_coder {\n",
              "    faster_rcnn_box_coder {\n",
              "      y_scale: 10.0\n",
              "      x_scale: 10.0\n",
              "      height_scale: 5.0\n",
              "      width_scale: 5.0\n",
              "    }\n",
              "  }\n",
              "  matcher {\n",
              "    argmax_matcher {\n",
              "      matched_threshold: 0.5\n",
              "      unmatched_threshold: 0.5\n",
              "      ignore_thresholds: false\n",
              "      negatives_lower_than_unmatched: true\n",
              "      force_match_for_each_row: true\n",
              "      use_matmul_gather: true\n",
              "    }\n",
              "  }\n",
              "  similarity_calculator {\n",
              "    iou_similarity {\n",
              "    }\n",
              "  }\n",
              "  box_predictor {\n",
              "    weight_shared_convolutional_box_predictor {\n",
              "      conv_hyperparams {\n",
              "        regularizer {\n",
              "          l2_regularizer {\n",
              "            weight: 0.00039999998989515007\n",
              "          }\n",
              "        }\n",
              "        initializer {\n",
              "          random_normal_initializer {\n",
              "            mean: 0.0\n",
              "            stddev: 0.009999999776482582\n",
              "          }\n",
              "        }\n",
              "        activation: RELU_6\n",
              "        batch_norm {\n",
              "          decay: 0.996999979019165\n",
              "          scale: true\n",
              "          epsilon: 0.0010000000474974513\n",
              "        }\n",
              "      }\n",
              "      depth: 256\n",
              "      num_layers_before_predictor: 4\n",
              "      kernel_size: 3\n",
              "      class_prediction_bias_init: -4.599999904632568\n",
              "    }\n",
              "  }\n",
              "  anchor_generator {\n",
              "    multiscale_anchor_generator {\n",
              "      min_level: 3\n",
              "      max_level: 7\n",
              "      anchor_scale: 4.0\n",
              "      aspect_ratios: 1.0\n",
              "      aspect_ratios: 2.0\n",
              "      aspect_ratios: 0.5\n",
              "      scales_per_octave: 2\n",
              "    }\n",
              "  }\n",
              "  post_processing {\n",
              "    batch_non_max_suppression {\n",
              "      score_threshold: 9.99999993922529e-09\n",
              "      iou_threshold: 0.6000000238418579\n",
              "      max_detections_per_class: 100\n",
              "      max_total_detections: 100\n",
              "    }\n",
              "    score_converter: SIGMOID\n",
              "  }\n",
              "  normalize_loss_by_num_matches: true\n",
              "  loss {\n",
              "    localization_loss {\n",
              "      weighted_smooth_l1 {\n",
              "      }\n",
              "    }\n",
              "    classification_loss {\n",
              "      weighted_sigmoid_focal {\n",
              "        gamma: 2.0\n",
              "        alpha: 0.25\n",
              "      }\n",
              "    }\n",
              "    classification_weight: 1.0\n",
              "    localization_weight: 1.0\n",
              "  }\n",
              "  encode_background_as_zeros: true\n",
              "  normalize_loc_loss_by_codesize: true\n",
              "  inplace_batchnorm_update: true\n",
              "  freeze_batchnorm: true\n",
              "}"
            ]
          },
          "metadata": {
            "tags": []
          },
          "execution_count": 18
        }
      ]
    },
    {
      "cell_type": "markdown",
      "metadata": {
        "id": "3kDwO8lAFc71"
      },
      "source": [
        "## Build the custom model\n",
        "\n",
        "We will use model_builder which has a function *build*"
      ]
    },
    {
      "cell_type": "code",
      "metadata": {
        "colab": {
          "base_uri": "https://localhost:8080/"
        },
        "id": "Bqe8zfOuEdK2",
        "outputId": "5e18eeaf-986e-4d44-969d-d7a3aa5c5e40"
      },
      "source": [
        "detection_model = model_builder.build(\n",
        "    model_config, is_training= True\n",
        ")\n",
        "\n",
        "print(type(detection_model))"
      ],
      "execution_count": 19,
      "outputs": [
        {
          "output_type": "stream",
          "text": [
            "<class 'object_detection.meta_architectures.ssd_meta_arch.SSDMetaArch'>\n"
          ],
          "name": "stdout"
        }
      ]
    },
    {
      "cell_type": "markdown",
      "metadata": {
        "id": "qO7D7dOTFxo9"
      },
      "source": [
        "## Restore weights from my checkpoint\n",
        "\n",
        "Now, I will selectively restore weights from my checkpoint.\n",
        "- My end goal is to create a custom model which reuses parts of, but not all of the layers of RetinaNet (currently stored in the variable `detection_model`.)\n",
        "  - The parts of RetinaNet that I want to reuse are:\n",
        "    - Feature extraction layers\n",
        "    - Bounding box regression prediction layer\n",
        "  - The part of RetinaNet that I will not want to reuse is the classification prediction layer (since I will define and train my own classification layer specific to guns).\n",
        "  - For the parts of RetinaNet that I want to reuse, I will also restore the weights from the checkpoint that you selected."
      ]
    },
    {
      "cell_type": "code",
      "metadata": {
        "colab": {
          "base_uri": "https://localhost:8080/"
        },
        "id": "3RPaNhvoFsAi",
        "outputId": "01f96fbb-effa-4fcd-8d8f-2eeb6b7d6367"
      },
      "source": [
        "detection_model._box_predictor\n",
        "\n",
        "# View variables in _box_predictor\n",
        "vars(detection_model._box_predictor)"
      ],
      "execution_count": 21,
      "outputs": [
        {
          "output_type": "execute_result",
          "data": {
            "text/plain": [
              "{'_activity_regularizer': None,\n",
              " '_additional_projection_layers': ListWrapper([]),\n",
              " '_apply_batch_norm': True,\n",
              " '_auto_track_sub_layers': True,\n",
              " '_autocast': True,\n",
              " '_base_tower_layers_for_heads': DictWrapper({'box_encodings': ListWrapper([]), 'class_predictions_with_background': ListWrapper([])}),\n",
              " '_box_prediction_head': <object_detection.predictors.heads.keras_box_head.WeightSharedConvolutionalBoxHead at 0x7f3443a48410>,\n",
              " '_build_input_shape': None,\n",
              " '_callable_losses': [],\n",
              " '_compute_dtype_object': tf.float32,\n",
              " '_conv_hyperparams': <object_detection.builders.hyperparams_builder.KerasLayerHyperparams at 0x7f3443a52910>,\n",
              " '_default_training_arg': None,\n",
              " '_depth': 256,\n",
              " '_dtype_policy': <Policy \"float32\">,\n",
              " '_dynamic': False,\n",
              " '_expects_mask_arg': True,\n",
              " '_expects_training_arg': True,\n",
              " '_freeze_batchnorm': True,\n",
              " '_head_scope_conv_layers': DictWrapper({}),\n",
              " '_inbound_nodes_value': [],\n",
              " '_initial_weights': None,\n",
              " '_inplace_batchnorm_update': False,\n",
              " '_input_spec': None,\n",
              " '_instrumented_keras_api': True,\n",
              " '_instrumented_keras_layer_class': True,\n",
              " '_instrumented_keras_model_class': False,\n",
              " '_is_training': True,\n",
              " '_kernel_size': 3,\n",
              " '_layers': [<object_detection.predictors.heads.keras_box_head.WeightSharedConvolutionalBoxHead at 0x7f3443a48410>,\n",
              "  DictWrapper({'class_predictions_with_background': <object_detection.predictors.heads.keras_class_head.WeightSharedConvolutionalClassHead object at 0x7f34431d8a90>}),\n",
              "  ListWrapper(['class_predictions_with_background']),\n",
              "  ListWrapper([]),\n",
              "  DictWrapper({'box_encodings': ListWrapper([]), 'class_predictions_with_background': ListWrapper([])}),\n",
              "  DictWrapper({})],\n",
              " '_losses': [],\n",
              " '_metrics': [],\n",
              " '_metrics_lock': <unlocked _thread.lock object at 0x7f3444d97960>,\n",
              " '_name': 'WeightSharedConvolutionalBoxPredictor',\n",
              " '_non_trainable_weights': [],\n",
              " '_num_classes': 1,\n",
              " '_num_layers_before_predictor': 4,\n",
              " '_obj_reference_counts_dict': ObjectIdentityDictionary({<_ObjectIdentityWrapper wrapping True>: 3, <_ObjectIdentityWrapper wrapping 1>: 1, <_ObjectIdentityWrapper wrapping False>: 3, <_ObjectIdentityWrapper wrapping <object_detection.predictors.heads.keras_box_head.WeightSharedConvolutionalBoxHead object at 0x7f3443a48410>>: 1, <_ObjectIdentityWrapper wrapping DictWrapper({'class_predictions_with_background': <object_detection.predictors.heads.keras_class_head.WeightSharedConvolutionalClassHead object at 0x7f34431d8a90>})>: 1, <_ObjectIdentityWrapper wrapping ListWrapper(['class_predictions_with_background'])>: 1, <_ObjectIdentityWrapper wrapping <object_detection.builders.hyperparams_builder.KerasLayerHyperparams object at 0x7f3443a52910>>: 1, <_ObjectIdentityWrapper wrapping 256>: 1, <_ObjectIdentityWrapper wrapping 4>: 1, <_ObjectIdentityWrapper wrapping 3>: 1, <_ObjectIdentityWrapper wrapping ListWrapper([])>: 1, <_ObjectIdentityWrapper wrapping DictWrapper({'box_encodings': ListWrapper([]), 'class_predictions_with_background': ListWrapper([])})>: 1, <_ObjectIdentityWrapper wrapping DictWrapper({})>: 1}),\n",
              " '_outbound_nodes_value': [],\n",
              " '_prediction_heads': DictWrapper({'class_predictions_with_background': <object_detection.predictors.heads.keras_class_head.WeightSharedConvolutionalClassHead object at 0x7f34431d8a90>}),\n",
              " '_preserve_input_structure_in_config': False,\n",
              " '_saved_model_inputs_spec': None,\n",
              " '_self_name_based_restores': set(),\n",
              " '_self_saveable_object_factories': {},\n",
              " '_self_setattr_tracking': True,\n",
              " '_self_unconditional_checkpoint_dependencies': [TrackableReference(name='_box_prediction_head', ref=<object_detection.predictors.heads.keras_box_head.WeightSharedConvolutionalBoxHead object at 0x7f3443a48410>),\n",
              "  TrackableReference(name='_prediction_heads', ref=DictWrapper({'class_predictions_with_background': <object_detection.predictors.heads.keras_class_head.WeightSharedConvolutionalClassHead object at 0x7f34431d8a90>})),\n",
              "  TrackableReference(name='_sorted_head_names', ref=ListWrapper(['class_predictions_with_background'])),\n",
              "  TrackableReference(name='_additional_projection_layers', ref=ListWrapper([])),\n",
              "  TrackableReference(name='_base_tower_layers_for_heads', ref=DictWrapper({'box_encodings': ListWrapper([]), 'class_predictions_with_background': ListWrapper([])})),\n",
              "  TrackableReference(name='_head_scope_conv_layers', ref=DictWrapper({}))],\n",
              " '_self_unconditional_deferred_dependencies': {},\n",
              " '_self_unconditional_dependency_names': {'_additional_projection_layers': ListWrapper([]),\n",
              "  '_base_tower_layers_for_heads': DictWrapper({'box_encodings': ListWrapper([]), 'class_predictions_with_background': ListWrapper([])}),\n",
              "  '_box_prediction_head': <object_detection.predictors.heads.keras_box_head.WeightSharedConvolutionalBoxHead at 0x7f3443a48410>,\n",
              "  '_head_scope_conv_layers': DictWrapper({}),\n",
              "  '_prediction_heads': DictWrapper({'class_predictions_with_background': <object_detection.predictors.heads.keras_class_head.WeightSharedConvolutionalClassHead object at 0x7f34431d8a90>}),\n",
              "  '_sorted_head_names': ListWrapper(['class_predictions_with_background'])},\n",
              " '_self_update_uid': -1,\n",
              " '_share_prediction_tower': False,\n",
              " '_sorted_head_names': ListWrapper(['class_predictions_with_background']),\n",
              " '_stateful': False,\n",
              " '_supports_masking': False,\n",
              " '_thread_local': <_thread._local at 0x7f34430e9c50>,\n",
              " '_trainable': True,\n",
              " '_trainable_weights': [],\n",
              " '_updates': [],\n",
              " '_use_depthwise': False,\n",
              " 'built': False}"
            ]
          },
          "metadata": {
            "tags": []
          },
          "execution_count": 21
        }
      ]
    },
    {
      "cell_type": "markdown",
      "metadata": {
        "id": "VgfJyORxGLEk"
      },
      "source": [
        "## Define Checkpoints for the box predictor\n",
        "\n",
        "We will define box_predictor_checkpoint to be checkpoint for these two layers of the detection_model's box predictor"
      ]
    },
    {
      "cell_type": "code",
      "metadata": {
        "id": "jdBCk1dPGFFs"
      },
      "source": [
        "tmp_box_predictor_checkpoint = tf.compat.v2.train.Checkpoint(\n",
        "    _base_tower_layers_for_heads=detection_model._box_predictor._base_tower_layers_for_heads,\n",
        "    _box_prediction_head=detection_model._box_predictor._box_prediction_head,\n",
        "    )\n",
        "\n",
        "#Define the temporary model checkpoint\n",
        "tmp_model_checkpoint = tf.compat.v2.train.Checkpoint(\n",
        "          _feature_extractor=detection_model._feature_extractor,\n",
        "          _box_predictor=tmp_box_predictor_checkpoint)\n",
        "\n",
        "tmp_model_checkpoint = tf.compat.v2.train.Checkpoint(model=tmp_model_checkpoint)"
      ],
      "execution_count": 23,
      "outputs": []
    },
    {
      "cell_type": "markdown",
      "metadata": {
        "id": "k3xvO86VG-YZ"
      },
      "source": [
        "## Restoring the checkpoint\n",
        "First, find and set the `checkpoint_path`\n",
        "\n",
        "- checkpoint_path: \n",
        "  - If you completed the previous code cell that downloads and moves the checkpoint, you'll see a subfolder named \"checkpoint\".  \n",
        "    - The 'checkpoint' folder contains three files:\n",
        "      - checkpoint\n",
        "      - ckpt-0.data-00000-of-00001\n",
        "      - ckpt-0.index\n",
        "    - Please set checkpoint_path to the path to the full path `models/.../ckpt-0` \n",
        "      - Notice that you don't want to include a file extension after `ckpt-0`.\n",
        "    - **IMPORTANT**: Please don't set the path to include the `.index` extension in the checkpoint file name.  \n",
        "      - If you do set it to `ckpt-0.index`, there won't be any immediate error message, but later during training, you'll notice that your model's loss doesn't improve, which means that the pre-trained weights were not restored properly.\n",
        "\n",
        "Next, define one last checkpoint using `tf.train.Checkpoint()`.\n",
        "- For the single keyword argument, \n",
        "  - Set the key as `model=` \n",
        "  - Set the value to your temporary model checkpoint that you just defined.\n",
        "- **IMPORTANT**: You'll need to set the keyword argument as `model=` and not something else like `detection_model=`.\n",
        "- If you set this keyword argument to anything else, it won't show an immmediate error, but when you train your model on the zombie images, your model loss will not decrease (your model will not learn).\n",
        "\n",
        "Finally, call this checkpoint's `.restore()` function, passing in the path to the checkpoint."
      ]
    },
    {
      "cell_type": "code",
      "metadata": {
        "colab": {
          "base_uri": "https://localhost:8080/"
        },
        "id": "q2L4GdO-Gs57",
        "outputId": "061c0047-5923-4a3c-e9f8-9de40dcd2a7b"
      },
      "source": [
        "checkpoint_path = 'models/research/object_detection/test_data/checkpoint/ckpt-0'\n",
        "\n",
        "checkpoint =tf.train.Checkpoint(model = detection_model) \n",
        "\n",
        "# Restore the checkpoint to the checkpoint path\n",
        "tmp_model_checkpoint.restore(checkpoint_path).expect_partial()"
      ],
      "execution_count": 24,
      "outputs": [
        {
          "output_type": "execute_result",
          "data": {
            "text/plain": [
              "<tensorflow.python.training.tracking.util.CheckpointLoadStatus at 0x7f34430177d0>"
            ]
          },
          "metadata": {
            "tags": []
          },
          "execution_count": 24
        }
      ]
    },
    {
      "cell_type": "markdown",
      "metadata": {
        "id": "3LyzzaPIHVyO"
      },
      "source": [
        "## Running a dummy image to generate the model variables\n",
        "\n",
        "Run a dummy image through the model so that variables are created. We need to select the trainable variables later in Exercise 9 and right now, it is still empty. Try running `len(detection_model.trainable_variables)` in a code cell and you will get `0`. We will pass in a dummy image through the forward pass to create these variables.\n",
        "\n",
        "Important methods that are available in the `detection_model` object  are:\n",
        "- [preprocess()](https://github.com/tensorflow/models/blob/dc4d11216b738920ddb136729e3ae71bddb75c7e/research/object_detection/meta_architectures/ssd_meta_arch.py#L459): \n",
        "    - takes in a tensor representing an image and returns\n",
        "    - returns `image, shapes`\n",
        "    - For the dummy image, you can declare a [tensor of zeros](https://www.tensorflow.org/api_docs/python/tf/zeros) that has a shape that the `preprocess()` method can accept (i.e. [batch, height, width, channels]). \n",
        "    - Remember that your images have dimensions 640 x 640 x 3. \n",
        "    - You can pass in a batch of 1 when making the dummy image. \n",
        "\n",
        "- [predict()](https://github.com/tensorflow/models/blob/dc4d11216b738920ddb136729e3ae71bddb75c7e/research/object_detection/meta_architectures/ssd_meta_arch.py#L525)\n",
        "  - takes in `image, shapes` which are created by the `preprocess()` function call.\n",
        "  - returns a prediction in a Python dictionary\n",
        "  - this will pass the dummy image through the forward pass of the network and create the model variables\n",
        "\n",
        "- [postprocess()](https://github.com/tensorflow/models/blob/dc4d11216b738920ddb136729e3ae71bddb75c7e/research/object_detection/meta_architectures/ssd_meta_arch.py#L655)\n",
        "  - Takes in the prediction_dict and shapes\n",
        "  - returns a dictionary of post-processed predictions of detected objects (\"detections\").\n",
        "   "
      ]
    },
    {
      "cell_type": "code",
      "metadata": {
        "colab": {
          "base_uri": "https://localhost:8080/"
        },
        "id": "oZYnPCqWHQk5",
        "outputId": "daef3344-63a3-461a-e069-e8805719e6d4"
      },
      "source": [
        "tmp_image, tmp_shapes = detection_model.preprocess(tf.zeros([1, 640, 640, 3]))\n",
        "tmp_prediction_dict = detection_model.predict(tmp_image, tmp_shapes)\n",
        "\n",
        "tmp_detections = detection_model.postprocess(tmp_prediction_dict, tmp_shapes)\n",
        "\n",
        "print('Weights restored!')"
      ],
      "execution_count": 25,
      "outputs": [
        {
          "output_type": "stream",
          "text": [
            "Weights restored!\n"
          ],
          "name": "stdout"
        }
      ]
    },
    {
      "cell_type": "code",
      "metadata": {
        "colab": {
          "base_uri": "https://localhost:8080/"
        },
        "id": "dgpeSeHTHo7_",
        "outputId": "dc7200c9-64e4-4c66-97b5-9029cde2d650"
      },
      "source": [
        "#Set training hyperparameters\n",
        "tf.keras.backend.set_learning_phase(True)\n",
        "batch_size = 4\n",
        "\n",
        "num_batches = 100\n",
        "\n",
        "learning_rate = 0.01\n",
        "\n",
        "# set the optimizer and pass in the learning_rate\n",
        "optimizer = tf.keras.optimizers.SGD(learning_rate= learning_rate, momentum= 0.9)"
      ],
      "execution_count": 26,
      "outputs": [
        {
          "output_type": "stream",
          "text": [
            "/usr/local/lib/python3.7/dist-packages/tensorflow/python/keras/backend.py:434: UserWarning: `tf.keras.backend.set_learning_phase` is deprecated and will be removed after 2020-10-11. To update it, simply pass a True/False value to the `training` argument of the `__call__` method of your layer or model.\n",
            "  warnings.warn('`tf.keras.backend.set_learning_phase` is deprecated and '\n"
          ],
          "name": "stderr"
        }
      ]
    },
    {
      "cell_type": "code",
      "metadata": {
        "id": "eVOowzqYH1qp"
      },
      "source": [
        "# define a list that contains the layers that  wish to fine tune\n",
        "trainable_variables = detection_model.trainable_variables\n",
        "to_fine_tune = []\n",
        "prefixes_to_train = [\n",
        "  'WeightSharedConvolutionalBoxPredictor/WeightSharedConvolutionalBoxHead',\n",
        "  'WeightSharedConvolutionalBoxPredictor/WeightSharedConvolutionalClassHead']\n",
        "for var in trainable_variables:\n",
        "  if any([var.name.startswith(prefix) for prefix in prefixes_to_train]):\n",
        "    to_fine_tune.append(var)"
      ],
      "execution_count": 27,
      "outputs": []
    },
    {
      "cell_type": "markdown",
      "metadata": {
        "id": "xmRopFWoIJtD"
      },
      "source": [
        "## Train model\n",
        "We'll define a function that handles training for one batch, which we'll later use in your training loop.\n",
        "\n",
        "First, walk through these code cells to learn how we'll perform training using this model."
      ]
    },
    {
      "cell_type": "code",
      "metadata": {
        "colab": {
          "base_uri": "https://localhost:8080/"
        },
        "id": "QrUM22aFIAqT",
        "outputId": "9ee588d9-4e72-4ec3-be11-cff5cfd61680"
      },
      "source": [
        "# Get a batch of your training images\n",
        "g_images_list = train_image_tensors[0:2]\n",
        "\n",
        "# Use .preprocess to preprocess an image\n",
        "g_preprocessed_image = detection_model.preprocess(g_images_list[0])\n",
        "print(f\"g_preprocessed_image type: {type(g_preprocessed_image)}\")\n",
        "print(f\"g_preprocessed_image length: {len(g_preprocessed_image)}\")\n",
        "print(f\"index 0 has the preprocessed image of shape {g_preprocessed_image[0].shape}\")\n",
        "print(f\"index 1 has information about the image's true shape excluding padding: {g_preprocessed_image[1]}\")"
      ],
      "execution_count": 28,
      "outputs": [
        {
          "output_type": "stream",
          "text": [
            "g_preprocessed_image type: <class 'tuple'>\n",
            "g_preprocessed_image length: 2\n",
            "index 0 has the preprocessed image of shape (1, 640, 640, 3)\n",
            "index 1 has information about the image's true shape excluding padding: [[640 640   3]]\n"
          ],
          "name": "stdout"
        }
      ]
    },
    {
      "cell_type": "markdown",
      "metadata": {
        "id": "EiBDtKxBIfek"
      },
      "source": [
        "We can pre-process each image and save their outputs into two separate lists\n",
        "\n",
        "* One list of the preprocessed images\n",
        "* One list of the true shape for each preprocessed image"
      ]
    },
    {
      "cell_type": "code",
      "metadata": {
        "id": "T_-pbjZcIbJ7"
      },
      "source": [
        "preprocessed_image_list = []\n",
        "true_shape_list = []\n",
        "\n",
        "for img in g_images_list:\n",
        "    processed_img, true_shape = detection_model.preprocess(img)\n",
        "    preprocessed_image_list.append(processed_img)\n",
        "    true_shape_list.append(true_shape)"
      ],
      "execution_count": 29,
      "outputs": []
    },
    {
      "cell_type": "markdown",
      "metadata": {
        "id": "dCj3JsJ1Iu5k"
      },
      "source": [
        "## Make a prediction\n",
        "The `detection_model` also has a `.predict` function.  According to the source code for [predict](https://github.com/tensorflow/models/blob/dc4d11216b738920ddb136729e3ae71bddb75c7e/research/object_detection/meta_architectures/ssd_meta_arch.py#L525)\n"
      ]
    },
    {
      "cell_type": "code",
      "metadata": {
        "colab": {
          "base_uri": "https://localhost:8080/"
        },
        "id": "Rt_cEJOFInJK",
        "outputId": "ed98c1a1-69cb-48c1-ac02-65dda56842d2"
      },
      "source": [
        "# Turn a list of tensors into a tensor\n",
        "preprocessed_image_tensor = tf.concat(preprocessed_image_list, axis=0)\n",
        "true_shape_tensor = tf.concat(true_shape_list, axis=0)\n",
        "\n",
        "# Make predictions on the images\n",
        "prediction_dict = detection_model.predict(preprocessed_image_tensor, true_shape_tensor)\n",
        "\n",
        "print(\"keys in prediction_dict:\")\n",
        "for key in prediction_dict.keys():\n",
        "    print(key)"
      ],
      "execution_count": 30,
      "outputs": [
        {
          "output_type": "stream",
          "text": [
            "keys in prediction_dict:\n",
            "preprocessed_inputs\n",
            "feature_maps\n",
            "anchors\n",
            "final_anchors\n",
            "box_encodings\n",
            "class_predictions_with_background\n"
          ],
          "name": "stdout"
        }
      ]
    },
    {
      "cell_type": "code",
      "metadata": {
        "id": "mZ36zjTSI5bG"
      },
      "source": [
        "# Get the ground truth bounding boxes\n",
        "gt_boxes_list = gt_box_tensors[0:2]\n",
        "\n",
        "# Get the ground truth class labels\n",
        "gt_classes_list = gt_classes_one_hot_tensors[0:2]\n",
        "\n",
        "# Provide the ground truth to the model\n",
        "detection_model.provide_groundtruth(\n",
        "            groundtruth_boxes_list=gt_boxes_list,\n",
        "            groundtruth_classes_list=gt_classes_list)"
      ],
      "execution_count": 31,
      "outputs": []
    },
    {
      "cell_type": "markdown",
      "metadata": {
        "id": "QlPLPmC0JJnE"
      },
      "source": [
        "Now we can calculate the loss"
      ]
    },
    {
      "cell_type": "code",
      "metadata": {
        "colab": {
          "base_uri": "https://localhost:8080/"
        },
        "id": "g7D5fm8mJHG3",
        "outputId": "d20c9d8f-47de-489f-a892-178421b373de"
      },
      "source": [
        "# Calculate the loss after you've provided the ground truth \n",
        "losses_dict = detection_model.loss(prediction_dict, true_shape_tensor)\n",
        "\n",
        "# View the loss dictionary\n",
        "losses_dict = detection_model.loss(prediction_dict, true_shape_tensor)\n",
        "print(f\"loss dictionary keys: {losses_dict.keys()}\")\n",
        "print(f\"localization loss {losses_dict['Loss/localization_loss']:.8f}\")\n",
        "print(f\"classification loss {losses_dict['Loss/classification_loss']:.8f}\")"
      ],
      "execution_count": 32,
      "outputs": [
        {
          "output_type": "stream",
          "text": [
            "loss dictionary keys: dict_keys(['Loss/localization_loss', 'Loss/classification_loss'])\n",
            "localization loss 0.57324779\n",
            "classification loss 1.11172652\n"
          ],
          "name": "stdout"
        }
      ]
    },
    {
      "cell_type": "markdown",
      "metadata": {
        "id": "plcGcmuBJVhE"
      },
      "source": [
        "## Defining one training step"
      ]
    },
    {
      "cell_type": "code",
      "metadata": {
        "id": "j2FNviqHJLbJ"
      },
      "source": [
        "\n",
        "# decorate with @tf.function for faster training (remember, graph mode!)\n",
        "@tf.function\n",
        "def train_step_fn(image_list,\n",
        "                groundtruth_boxes_list,\n",
        "                groundtruth_classes_list,\n",
        "                model,\n",
        "                optimizer,\n",
        "                vars_to_fine_tune):\n",
        "\n",
        "    shapes = tf.constant(batch_size * [[640, 640, 3]], dtype=tf.int32)\n",
        "    model.provide_groundtruth(\n",
        "        groundtruth_boxes_list=groundtruth_boxes_list,\n",
        "        groundtruth_classes_list=groundtruth_classes_list)\n",
        "    with tf.GradientTape() as tape:\n",
        "        # Preprocess the images\n",
        "        \n",
        "        preprocessed_image_tensor = tf.concat(\n",
        "            [detection_model.preprocess(image_tensor)[0]\n",
        "             for image_tensor in image_list], axis=0) \n",
        "        true_shape_tensor = preprocessed_image_tensor.shape \n",
        "\n",
        "        # Make a prediction\n",
        "        prediction_dict = model.predict(preprocessed_image_tensor, shapes)\n",
        "\n",
        "        # Calculate the total loss (sum of both losses)\n",
        "        losses_dict = model.loss(prediction_dict, shapes)\n",
        "        total_loss = losses_dict['Loss/localization_loss'] + losses_dict['Loss/classification_loss']\n",
        "\n",
        "        # Calculate the gradients\n",
        "        gradients = tape.gradient(total_loss, vars_to_fine_tune)\n",
        "\n",
        "        optimizer.apply_gradients(zip(gradients, vars_to_fine_tune))\n",
        "        \n",
        "    return total_loss"
      ],
      "execution_count": 33,
      "outputs": []
    },
    {
      "cell_type": "markdown",
      "metadata": {
        "id": "NvRECPcNJowz"
      },
      "source": [
        "## Run the training loop\n",
        "\n",
        "Run the training loop using the training step function that we just defined."
      ]
    },
    {
      "cell_type": "code",
      "metadata": {
        "colab": {
          "base_uri": "https://localhost:8080/"
        },
        "id": "hgqWjcDHJi8e",
        "outputId": "920ef4c9-8161-4f71-d3b8-e338717c80b3"
      },
      "source": [
        "print('Start', flush=True)\n",
        "\n",
        "for idx in range(num_batches):\n",
        "    all_keys = list(range(len(train_images_np)))\n",
        "    random.shuffle(all_keys)\n",
        "    example_keys = all_keys[:batch_size]\n",
        "\n",
        "    # Get the ground truth\n",
        "    gt_boxes_list = [gt_box_tensors[key] for key in example_keys]\n",
        "    gt_classes_list = [gt_classes_one_hot_tensors[key] for key in example_keys]\n",
        "    \n",
        "    # get the images\n",
        "    image_tensors = [train_image_tensors[key] for key in example_keys]\n",
        "\n",
        "    # Training step (forward pass + backwards pass)\n",
        "    total_loss = train_step_fn(image_tensors, \n",
        "                               gt_boxes_list, \n",
        "                               gt_classes_list,\n",
        "                               detection_model,\n",
        "                               optimizer,\n",
        "                               to_fine_tune\n",
        "                              )\n",
        "\n",
        "    if idx % 10 == 0:\n",
        "        print('batch ' + str(idx) + ' of ' + str(num_batches)\n",
        "        + ', loss=' +  str(total_loss.numpy()), flush=True)\n",
        "\n",
        "print('Done')"
      ],
      "execution_count": 34,
      "outputs": [
        {
          "output_type": "stream",
          "text": [
            "Start\n",
            "batch 0 of 100, loss=1.5296891\n",
            "WARNING:tensorflow:5 out of the last 5 calls to <function train_step_fn at 0x7f343fd35050> triggered tf.function retracing. Tracing is expensive and the excessive number of tracings could be due to (1) creating @tf.function repeatedly in a loop, (2) passing tensors with different shapes, (3) passing Python objects instead of tensors. For (1), please define your @tf.function outside of the loop. For (2), @tf.function has experimental_relax_shapes=True option that relaxes argument shapes that can avoid unnecessary retracing. For (3), please refer to https://www.tensorflow.org/guide/function#controlling_retracing and https://www.tensorflow.org/api_docs/python/tf/function for  more details.\n",
            "WARNING:tensorflow:6 out of the last 6 calls to <function train_step_fn at 0x7f343fd35050> triggered tf.function retracing. Tracing is expensive and the excessive number of tracings could be due to (1) creating @tf.function repeatedly in a loop, (2) passing tensors with different shapes, (3) passing Python objects instead of tensors. For (1), please define your @tf.function outside of the loop. For (2), @tf.function has experimental_relax_shapes=True option that relaxes argument shapes that can avoid unnecessary retracing. For (3), please refer to https://www.tensorflow.org/guide/function#controlling_retracing and https://www.tensorflow.org/api_docs/python/tf/function for  more details.\n",
            "WARNING:tensorflow:7 out of the last 7 calls to <function train_step_fn at 0x7f343fd35050> triggered tf.function retracing. Tracing is expensive and the excessive number of tracings could be due to (1) creating @tf.function repeatedly in a loop, (2) passing tensors with different shapes, (3) passing Python objects instead of tensors. For (1), please define your @tf.function outside of the loop. For (2), @tf.function has experimental_relax_shapes=True option that relaxes argument shapes that can avoid unnecessary retracing. For (3), please refer to https://www.tensorflow.org/guide/function#controlling_retracing and https://www.tensorflow.org/api_docs/python/tf/function for  more details.\n",
            "WARNING:tensorflow:8 out of the last 9 calls to <function train_step_fn at 0x7f343fd35050> triggered tf.function retracing. Tracing is expensive and the excessive number of tracings could be due to (1) creating @tf.function repeatedly in a loop, (2) passing tensors with different shapes, (3) passing Python objects instead of tensors. For (1), please define your @tf.function outside of the loop. For (2), @tf.function has experimental_relax_shapes=True option that relaxes argument shapes that can avoid unnecessary retracing. For (3), please refer to https://www.tensorflow.org/guide/function#controlling_retracing and https://www.tensorflow.org/api_docs/python/tf/function for  more details.\n",
            "batch 10 of 100, loss=0.4121471\n",
            "WARNING:tensorflow:8 out of the last 11 calls to <function train_step_fn at 0x7f343fd35050> triggered tf.function retracing. Tracing is expensive and the excessive number of tracings could be due to (1) creating @tf.function repeatedly in a loop, (2) passing tensors with different shapes, (3) passing Python objects instead of tensors. For (1), please define your @tf.function outside of the loop. For (2), @tf.function has experimental_relax_shapes=True option that relaxes argument shapes that can avoid unnecessary retracing. For (3), please refer to https://www.tensorflow.org/guide/function#controlling_retracing and https://www.tensorflow.org/api_docs/python/tf/function for  more details.\n",
            "WARNING:tensorflow:8 out of the last 11 calls to <function train_step_fn at 0x7f343fd35050> triggered tf.function retracing. Tracing is expensive and the excessive number of tracings could be due to (1) creating @tf.function repeatedly in a loop, (2) passing tensors with different shapes, (3) passing Python objects instead of tensors. For (1), please define your @tf.function outside of the loop. For (2), @tf.function has experimental_relax_shapes=True option that relaxes argument shapes that can avoid unnecessary retracing. For (3), please refer to https://www.tensorflow.org/guide/function#controlling_retracing and https://www.tensorflow.org/api_docs/python/tf/function for  more details.\n",
            "WARNING:tensorflow:8 out of the last 11 calls to <function train_step_fn at 0x7f343fd35050> triggered tf.function retracing. Tracing is expensive and the excessive number of tracings could be due to (1) creating @tf.function repeatedly in a loop, (2) passing tensors with different shapes, (3) passing Python objects instead of tensors. For (1), please define your @tf.function outside of the loop. For (2), @tf.function has experimental_relax_shapes=True option that relaxes argument shapes that can avoid unnecessary retracing. For (3), please refer to https://www.tensorflow.org/guide/function#controlling_retracing and https://www.tensorflow.org/api_docs/python/tf/function for  more details.\n",
            "WARNING:tensorflow:7 out of the last 11 calls to <function train_step_fn at 0x7f343fd35050> triggered tf.function retracing. Tracing is expensive and the excessive number of tracings could be due to (1) creating @tf.function repeatedly in a loop, (2) passing tensors with different shapes, (3) passing Python objects instead of tensors. For (1), please define your @tf.function outside of the loop. For (2), @tf.function has experimental_relax_shapes=True option that relaxes argument shapes that can avoid unnecessary retracing. For (3), please refer to https://www.tensorflow.org/guide/function#controlling_retracing and https://www.tensorflow.org/api_docs/python/tf/function for  more details.\n",
            "WARNING:tensorflow:7 out of the last 11 calls to <function train_step_fn at 0x7f343fd35050> triggered tf.function retracing. Tracing is expensive and the excessive number of tracings could be due to (1) creating @tf.function repeatedly in a loop, (2) passing tensors with different shapes, (3) passing Python objects instead of tensors. For (1), please define your @tf.function outside of the loop. For (2), @tf.function has experimental_relax_shapes=True option that relaxes argument shapes that can avoid unnecessary retracing. For (3), please refer to https://www.tensorflow.org/guide/function#controlling_retracing and https://www.tensorflow.org/api_docs/python/tf/function for  more details.\n",
            "WARNING:tensorflow:7 out of the last 12 calls to <function train_step_fn at 0x7f343fd35050> triggered tf.function retracing. Tracing is expensive and the excessive number of tracings could be due to (1) creating @tf.function repeatedly in a loop, (2) passing tensors with different shapes, (3) passing Python objects instead of tensors. For (1), please define your @tf.function outside of the loop. For (2), @tf.function has experimental_relax_shapes=True option that relaxes argument shapes that can avoid unnecessary retracing. For (3), please refer to https://www.tensorflow.org/guide/function#controlling_retracing and https://www.tensorflow.org/api_docs/python/tf/function for  more details.\n",
            "batch 20 of 100, loss=0.1213492\n",
            "batch 30 of 100, loss=0.061843917\n",
            "batch 40 of 100, loss=0.034526005\n",
            "WARNING:tensorflow:5 out of the last 20 calls to <function train_step_fn at 0x7f343fd35050> triggered tf.function retracing. Tracing is expensive and the excessive number of tracings could be due to (1) creating @tf.function repeatedly in a loop, (2) passing tensors with different shapes, (3) passing Python objects instead of tensors. For (1), please define your @tf.function outside of the loop. For (2), @tf.function has experimental_relax_shapes=True option that relaxes argument shapes that can avoid unnecessary retracing. For (3), please refer to https://www.tensorflow.org/guide/function#controlling_retracing and https://www.tensorflow.org/api_docs/python/tf/function for  more details.\n",
            "batch 50 of 100, loss=0.025534539\n",
            "WARNING:tensorflow:6 out of the last 22 calls to <function train_step_fn at 0x7f343fd35050> triggered tf.function retracing. Tracing is expensive and the excessive number of tracings could be due to (1) creating @tf.function repeatedly in a loop, (2) passing tensors with different shapes, (3) passing Python objects instead of tensors. For (1), please define your @tf.function outside of the loop. For (2), @tf.function has experimental_relax_shapes=True option that relaxes argument shapes that can avoid unnecessary retracing. For (3), please refer to https://www.tensorflow.org/guide/function#controlling_retracing and https://www.tensorflow.org/api_docs/python/tf/function for  more details.\n",
            "batch 60 of 100, loss=0.021115808\n",
            "batch 70 of 100, loss=0.018568816\n",
            "batch 80 of 100, loss=0.016889358\n",
            "batch 90 of 100, loss=0.015600436\n",
            "Done\n"
          ],
          "name": "stdout"
        }
      ]
    },
    {
      "cell_type": "markdown",
      "metadata": {
        "id": "lhao6Rt1J3BS"
      },
      "source": [
        "## Load test images and run inference with new model\n",
        "\n",
        "You we now test your model on a new set of images which are stored in a result/ directory. The cell below loads these images into numpy arrays to prepare it for inference"
      ]
    },
    {
      "cell_type": "code",
      "metadata": {
        "colab": {
          "base_uri": "https://localhost:8080/"
        },
        "id": "pfKVcFlnJyuy",
        "outputId": "828ca96d-d0c0-48b6-fe19-91583fb99f1b"
      },
      "source": [
        "test_image_dir = './result/'\n",
        "test_images_np = []\n",
        "\n",
        "# load images into a numpy array. this will take a few minutes to complete.\n",
        "for i in range(0, 2):\n",
        "    image_path = os.path.join(test_image_dir, 'test' + \"{0:04}\".format(i) + '.jpeg')\n",
        "    print(image_path)\n",
        "    test_images_np.append(np.expand_dims(\n",
        "      load_image_into_numpy_array(image_path), axis=0))"
      ],
      "execution_count": 35,
      "outputs": [
        {
          "output_type": "stream",
          "text": [
            "./result/test0000.jpeg\n",
            "./result/test0001.jpeg\n"
          ],
          "name": "stdout"
        }
      ]
    },
    {
      "cell_type": "code",
      "metadata": {
        "id": "50VBILaNLx1h"
      },
      "source": [
        "#  Preprocess, predict, and post process an image\n",
        "\n",
        "# Again, uncomment this decorator if you want to run inference eagerly\n",
        "@tf.function\n",
        "def detect(input_tensor):\n",
        "\n",
        "    preprocessed_image, shapes = detection_model.preprocess(input_tensor)\n",
        "    prediction_dict = detection_model.predict(preprocessed_image, shapes)\n",
        "\n",
        "    detections = detection_model.postprocess(prediction_dict, shapes)\n",
        "    \n",
        "    return detections"
      ],
      "execution_count": 36,
      "outputs": []
    },
    {
      "cell_type": "code",
      "metadata": {
        "id": "tUQ5EpulMBmi"
      },
      "source": [
        "label_id_offset = 1\n",
        "results1 = {'boxes': [], 'scores': []}\n",
        "\n",
        "for i in range(len(test_images_np)):\n",
        "    input_tensor = tf.convert_to_tensor(test_images_np[i], dtype=tf.float32)\n",
        "    detections = detect(input_tensor)\n",
        "    plot_detections(\n",
        "      test_images_np[i][0],\n",
        "      detections['detection_boxes'][0].numpy(),\n",
        "      detections['detection_classes'][0].numpy().astype(np.uint32)\n",
        "      + label_id_offset,\n",
        "      detections['detection_scores'][0].numpy(),\n",
        "      category_index, figsize=(15, 20), image_name=\"./result/gif_frame_\" + ('%04d' % i) + \".jpg\")\n",
        "    results1['boxes'].append(detections['detection_boxes'][0][0].numpy())\n",
        "    results1['scores'].append(detections['detection_scores'][0][0].numpy())"
      ],
      "execution_count": 40,
      "outputs": []
    },
    {
      "cell_type": "markdown",
      "metadata": {
        "id": "miiyOQ8BMeSM"
      },
      "source": [
        "We can also check if the model detects a gun class in the images by examining the scores key of the results dictionary."
      ]
    },
    {
      "cell_type": "code",
      "metadata": {
        "colab": {
          "base_uri": "https://localhost:8080/"
        },
        "id": "CzI2zp1sMbCD",
        "outputId": "141bcaed-7364-4ab6-8719-c2410032e5ec"
      },
      "source": [
        "x = np.array(results1['scores'])\n",
        "\n",
        "# percent of frames where a gun is detected\n",
        "gun_detected = (np.where(x > 0.9, 1, 0).sum())/237*100\n",
        "print(gun_detected)"
      ],
      "execution_count": 41,
      "outputs": [
        {
          "output_type": "stream",
          "text": [
            "1.0\n"
          ],
          "name": "stdout"
        }
      ]
    },
    {
      "cell_type": "markdown",
      "metadata": {
        "id": "NRUA5RuYMqYW"
      },
      "source": [
        "We can also display some still frames and inspect visually. "
      ]
    },
    {
      "cell_type": "code",
      "metadata": {
        "colab": {
          "base_uri": "https://localhost:8080/",
          "height": 235
        },
        "id": "S2ypYUaEMrzY",
        "outputId": "d018c824-2a5f-4fba-936d-38fdcf6cb584"
      },
      "source": [
        "print('Frame 0')\n",
        "display(IPyImage('./result/gif_frame_0001.jpg'))\n",
        "print()"
      ],
      "execution_count": 43,
      "outputs": [
        {
          "output_type": "stream",
          "text": [
            "Frame 0\n"
          ],
          "name": "stdout"
        },
        {
          "output_type": "display_data",
          "data": {
            "image/jpeg": "[encoded data removed]",
            "text/plain": [
              "<IPython.core.display.Image object>"
            ]
          },
          "metadata": {
            "tags": []
          }
        },
        {
          "output_type": "stream",
          "text": [
            "\n"
          ],
          "name": "stdout"
        }
      ]
    },
    {
      "cell_type": "code",
      "metadata": {
        "colab": {
          "base_uri": "https://localhost:8080/",
          "height": 298
        },
        "id": "njpHryaHPMsV",
        "outputId": "b53af0fd-6835-4d7f-855b-727b1a8559e9"
      },
      "source": [
        "print('Frame 1')\n",
        "display(IPyImage('./result/gif_frame_0000.jpg'))\n",
        "print()"
      ],
      "execution_count": 44,
      "outputs": [
        {
          "output_type": "stream",
          "text": [
            "Frame 1\n"
          ],
          "name": "stdout"
        },
        {
          "output_type": "display_data",
          "data": {
            "image/jpeg": "[encoded data removed]",
            "text/plain": [
              "<IPython.core.display.Image object>"
            ]
          },
          "metadata": {
            "tags": []
          }
        },
        {
          "output_type": "stream",
          "text": [
            "\n"
          ],
          "name": "stdout"
        }
      ]
    },
    {
      "cell_type": "code",
      "metadata": {
        "colab": {
          "base_uri": "https://localhost:8080/",
          "height": 17
        },
        "id": "zO5g07hwQHO1",
        "outputId": "ccd94484-e128-47f3-f034-c138735b9948"
      },
      "source": [
        "#Save results\n",
        "import pickle\n",
        "\n",
        "with open('results.data', 'wb') as filehandle:\n",
        "    pickle.dump(results1['boxes'], filehandle)\n",
        "\n",
        "#from google.colab import files\n",
        "#files.download('results.data')"
      ],
      "execution_count": 47,
      "outputs": [
        {
          "output_type": "display_data",
          "data": {
            "application/javascript": [
              "\n",
              "    async function download(id, filename, size) {\n",
              "      if (!google.colab.kernel.accessAllowed) {\n",
              "        return;\n",
              "      }\n",
              "      const div = document.createElement('div');\n",
              "      const label = document.createElement('label');\n",
              "      label.textContent = `Downloading \"${filename}\": `;\n",
              "      div.appendChild(label);\n",
              "      const progress = document.createElement('progress');\n",
              "      progress.max = size;\n",
              "      div.appendChild(progress);\n",
              "      document.body.appendChild(div);\n",
              "\n",
              "      const buffers = [];\n",
              "      let downloaded = 0;\n",
              "\n",
              "      const channel = await google.colab.kernel.comms.open(id);\n",
              "      // Send a message to notify the kernel that we're ready.\n",
              "      channel.send({})\n",
              "\n",
              "      for await (const message of channel.messages) {\n",
              "        // Send a message to notify the kernel that we're ready.\n",
              "        channel.send({})\n",
              "        if (message.buffers) {\n",
              "          for (const buffer of message.buffers) {\n",
              "            buffers.push(buffer);\n",
              "            downloaded += buffer.byteLength;\n",
              "            progress.value = downloaded;\n",
              "          }\n",
              "        }\n",
              "      }\n",
              "      const blob = new Blob(buffers, {type: 'application/binary'});\n",
              "      const a = document.createElement('a');\n",
              "      a.href = window.URL.createObjectURL(blob);\n",
              "      a.download = filename;\n",
              "      div.appendChild(a);\n",
              "      a.click();\n",
              "      div.remove();\n",
              "    }\n",
              "  "
            ],
            "text/plain": [
              "<IPython.core.display.Javascript object>"
            ]
          },
          "metadata": {
            "tags": []
          }
        },
        {
          "output_type": "display_data",
          "data": {
            "application/javascript": [
              "download(\"download_67e68ee1-96a4-4d7a-a00b-44fd25bfc681\", \"results.data\", 226)"
            ],
            "text/plain": [
              "<IPython.core.display.Javascript object>"
            ]
          },
          "metadata": {
            "tags": []
          }
        }
      ]
    },
    {
      "cell_type": "markdown",
      "metadata": {
        "id": "rpFUav5SQqVu"
      },
      "source": [
        "### References:\n",
        "\n",
        "[Focal Loss for Dense Object Detection](https://arxiv.org/abs/1708.02002)\n",
        "\n",
        "\n",
        "[TensorFlow blog](https://blog.tensorflow.org/)\n",
        "\n",
        "[TensorFlow Object Detection API](https://blog.tensorflow.org/2020/07/tensorflow-2-meets-object-detection-api.html)\n",
        " \n",
        "[TensorFlow 2 Detection Model Zoo](https://github.com/tensorflow/models/blob/master/research/object_detection/g3doc/tf2_detection_zoo.md)\n",
        "\n",
        "\n",
        "[Advanced Computer Vision with TensorFlow](https://www.coursera.org/learn/advanced-computer-vision-with-tensorflow?specialization=tensorflow-advanced-techniques)\n",
        "\n",
        "[Intro to Object Detection with TensorFlow](https://github.com/tensorflow/models/blob/master/research/object_detection/colab_tutorials/inference_tf2_colab.ipynb)\n",
        " \n",
        "[Eager Few Shot Object Detection Colab](https://github.com/tensorflow/models/blob/master/research/object_detection/colab_tutorials/eager_few_shot_od_training_tf2_colab.ipynb)\n"
      ]
    }
  ]
}